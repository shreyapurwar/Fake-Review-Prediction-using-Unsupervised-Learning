{
 "cells": [
  {
   "cell_type": "code",
   "execution_count": 1,
   "metadata": {
    "id": "R9bDVNYyEujD"
   },
   "outputs": [],
   "source": [
    "import pandas as pd"
   ]
  },
  {
   "cell_type": "code",
   "execution_count": 2,
   "metadata": {
    "id": "1OLpKFRSFBoS"
   },
   "outputs": [],
   "source": [
    "df=pd.read_csv(\"Final_Project_DatasetV2.csv\")"
   ]
  },
  {
   "cell_type": "code",
   "execution_count": 3,
   "metadata": {
    "id": "FDkYjTIsG_nS"
   },
   "outputs": [],
   "source": [
    "\n",
    "df.rename(columns = {'Product ID': 'ProductID' , 'User ID': 'reviewerName' , 'Star Rating': 'overall', 'Review Title': 'summary','Review Content':'reviewText','Verified purchase?': 'verified','Helpful review?': 'vote'},inplace = True)\n"
   ]
  },
  {
   "cell_type": "code",
   "execution_count": 4,
   "metadata": {
    "colab": {
     "base_uri": "https://localhost:8080/"
    },
    "id": "FSFYSUQHFJtx",
    "outputId": "d856e752-9fae-45e4-c0ed-7ef7e2ac0b23"
   },
   "outputs": [
    {
     "data": {
      "text/plain": [
       "(1892, 7)"
      ]
     },
     "execution_count": 4,
     "metadata": {},
     "output_type": "execute_result"
    }
   ],
   "source": [
    "df.shape"
   ]
  },
  {
   "cell_type": "code",
   "execution_count": 5,
   "metadata": {
    "colab": {
     "base_uri": "https://localhost:8080/",
     "height": 328
    },
    "id": "mW2F5XoAFM_q",
    "outputId": "1ad5d450-7210-4aaf-ed9c-9df5c544f1d0"
   },
   "outputs": [
    {
     "data": {
      "text/html": [
       "<div>\n",
       "<style scoped>\n",
       "    .dataframe tbody tr th:only-of-type {\n",
       "        vertical-align: middle;\n",
       "    }\n",
       "\n",
       "    .dataframe tbody tr th {\n",
       "        vertical-align: top;\n",
       "    }\n",
       "\n",
       "    .dataframe thead th {\n",
       "        text-align: right;\n",
       "    }\n",
       "</style>\n",
       "<table border=\"1\" class=\"dataframe\">\n",
       "  <thead>\n",
       "    <tr style=\"text-align: right;\">\n",
       "      <th></th>\n",
       "      <th>ProductID</th>\n",
       "      <th>reviewerName</th>\n",
       "      <th>overall</th>\n",
       "      <th>summary</th>\n",
       "      <th>reviewText</th>\n",
       "      <th>verified</th>\n",
       "      <th>vote</th>\n",
       "    </tr>\n",
       "  </thead>\n",
       "  <tbody>\n",
       "    <tr>\n",
       "      <th>0</th>\n",
       "      <td>7048911307</td>\n",
       "      <td>trapara</td>\n",
       "      <td>5.0</td>\n",
       "      <td>sound is great</td>\n",
       "      <td>I've had problems finding the right earbuds un...</td>\n",
       "      <td>Yes</td>\n",
       "      <td>0</td>\n",
       "    </tr>\n",
       "    <tr>\n",
       "      <th>1</th>\n",
       "      <td>7048911307</td>\n",
       "      <td>salatas123</td>\n",
       "      <td>5.0</td>\n",
       "      <td>ear buds</td>\n",
       "      <td>work great and very easy to use..</td>\n",
       "      <td>Yes</td>\n",
       "      <td>0</td>\n",
       "    </tr>\n",
       "    <tr>\n",
       "      <th>2</th>\n",
       "      <td>7048911307</td>\n",
       "      <td>camilo072010</td>\n",
       "      <td>5.0</td>\n",
       "      <td>Earpods</td>\n",
       "      <td>Work properly</td>\n",
       "      <td>Yes</td>\n",
       "      <td>0</td>\n",
       "    </tr>\n",
       "    <tr>\n",
       "      <th>3</th>\n",
       "      <td>5039309707</td>\n",
       "      <td>reyhouse77</td>\n",
       "      <td>4.0</td>\n",
       "      <td>Great for bicycling</td>\n",
       "      <td>I like these wireless earphones, because they ...</td>\n",
       "      <td>yes</td>\n",
       "      <td>25</td>\n",
       "    </tr>\n",
       "    <tr>\n",
       "      <th>4</th>\n",
       "      <td>5039309707</td>\n",
       "      <td>josben-6575</td>\n",
       "      <td>5.0</td>\n",
       "      <td>If looking for a decent pair of wireless earbu...</td>\n",
       "      <td>The more i use them the more i like them. They...</td>\n",
       "      <td>yes</td>\n",
       "      <td>42</td>\n",
       "    </tr>\n",
       "  </tbody>\n",
       "</table>\n",
       "</div>"
      ],
      "text/plain": [
       "    ProductID  reviewerName  overall  \\\n",
       "0  7048911307       trapara      5.0   \n",
       "1  7048911307    salatas123      5.0   \n",
       "2  7048911307  camilo072010      5.0   \n",
       "3  5039309707    reyhouse77      4.0   \n",
       "4  5039309707   josben-6575      5.0   \n",
       "\n",
       "                                             summary  \\\n",
       "0                                     sound is great   \n",
       "1                                           ear buds   \n",
       "2                                            Earpods   \n",
       "3                                Great for bicycling   \n",
       "4  If looking for a decent pair of wireless earbu...   \n",
       "\n",
       "                                          reviewText verified  vote  \n",
       "0  I've had problems finding the right earbuds un...      Yes     0  \n",
       "1                  work great and very easy to use..      Yes     0  \n",
       "2                                      Work properly      Yes     0  \n",
       "3  I like these wireless earphones, because they ...      yes    25  \n",
       "4  The more i use them the more i like them. They...      yes    42  "
      ]
     },
     "execution_count": 5,
     "metadata": {},
     "output_type": "execute_result"
    }
   ],
   "source": [
    "df.head(5)"
   ]
  },
  {
   "cell_type": "code",
   "execution_count": 6,
   "metadata": {
    "colab": {
     "base_uri": "https://localhost:8080/"
    },
    "id": "UA6QvgtYFThm",
    "outputId": "244b00a0-7016-4023-f51a-eb2bae023ca5"
   },
   "outputs": [
    {
     "data": {
      "text/plain": [
       "ProductID       0.000000\n",
       "reviewerName    0.000000\n",
       "overall         0.000529\n",
       "summary         0.000000\n",
       "reviewText      0.001057\n",
       "verified        0.000000\n",
       "vote            0.000000\n",
       "dtype: float64"
      ]
     },
     "execution_count": 6,
     "metadata": {},
     "output_type": "execute_result"
    }
   ],
   "source": [
    "#check percentage of nulls per column\n",
    "df.isna().sum()/len(df)"
   ]
  },
  {
   "cell_type": "code",
   "execution_count": 7,
   "metadata": {
    "colab": {
     "base_uri": "https://localhost:8080/"
    },
    "id": "7XYbLdNsFmFC",
    "outputId": "833d96aa-6d5b-4b05-d4d8-a0e17e56f643"
   },
   "outputs": [
    {
     "name": "stdout",
     "output_type": "stream",
     "text": [
      "<class 'pandas.core.frame.DataFrame'>\n",
      "RangeIndex: 1892 entries, 0 to 1891\n",
      "Data columns (total 7 columns):\n",
      " #   Column        Non-Null Count  Dtype  \n",
      "---  ------        --------------  -----  \n",
      " 0   ProductID     1892 non-null   int64  \n",
      " 1   reviewerName  1892 non-null   object \n",
      " 2   overall       1891 non-null   float64\n",
      " 3   summary       1892 non-null   object \n",
      " 4   reviewText    1890 non-null   object \n",
      " 5   verified      1892 non-null   object \n",
      " 6   vote          1892 non-null   int64  \n",
      "dtypes: float64(1), int64(2), object(4)\n",
      "memory usage: 103.6+ KB\n"
     ]
    }
   ],
   "source": [
    "df.info()"
   ]
  },
  {
   "cell_type": "code",
   "execution_count": 8,
   "metadata": {
    "id": "JE9Riv1AFrKA"
   },
   "outputs": [],
   "source": [
    "#Function for CLeaning\n",
    "def cleanDF(dataframe):\n",
    "  modified_df = dataframe.dropna(axis =0 , subset = ['reviewText'])\n",
    "  \n",
    "  modified_df['summary'].fillna(modified_df['reviewText'], inplace = True)\n",
    "  modified_df['reviewerName'].fillna('Amazon Customer', inplace = True)\n",
    "  modified_df[\"verified\"] = df[\"verified\"].str.lower()\n",
    "  modified_df['overall'].fillna(0,inplace=True)\n",
    "  map_dict = {'no':0, 'yes':1}\n",
    "  modified_df['verified'] = modified_df['verified'].map(map_dict)\n",
    "  modified_df = modified_df.reset_index().drop('index', axis=1)\n",
    "  modified_df['verified'].fillna(0,inplace=True)\n",
    "  return modified_df"
   ]
  },
  {
   "cell_type": "code",
   "execution_count": 9,
   "metadata": {
    "colab": {
     "base_uri": "https://localhost:8080/"
    },
    "id": "iDvHLp30vGQJ",
    "outputId": "257fdcdd-0c8d-43ca-d6e6-31ffe793cf0a"
   },
   "outputs": [
    {
     "name": "stderr",
     "output_type": "stream",
     "text": [
      "/Users/shreya/opt/anaconda3/lib/python3.8/site-packages/pandas/core/series.py:4463: SettingWithCopyWarning: \n",
      "A value is trying to be set on a copy of a slice from a DataFrame\n",
      "\n",
      "See the caveats in the documentation: https://pandas.pydata.org/pandas-docs/stable/user_guide/indexing.html#returning-a-view-versus-a-copy\n",
      "  return super().fillna(\n",
      "<ipython-input-8-7ba4d6fdc991>:7: SettingWithCopyWarning: \n",
      "A value is trying to be set on a copy of a slice from a DataFrame.\n",
      "Try using .loc[row_indexer,col_indexer] = value instead\n",
      "\n",
      "See the caveats in the documentation: https://pandas.pydata.org/pandas-docs/stable/user_guide/indexing.html#returning-a-view-versus-a-copy\n",
      "  modified_df[\"verified\"] = df[\"verified\"].str.lower()\n",
      "<ipython-input-8-7ba4d6fdc991>:10: SettingWithCopyWarning: \n",
      "A value is trying to be set on a copy of a slice from a DataFrame.\n",
      "Try using .loc[row_indexer,col_indexer] = value instead\n",
      "\n",
      "See the caveats in the documentation: https://pandas.pydata.org/pandas-docs/stable/user_guide/indexing.html#returning-a-view-versus-a-copy\n",
      "  modified_df['verified'] = modified_df['verified'].map(map_dict)\n"
     ]
    }
   ],
   "source": [
    "clean_df=cleanDF(df)"
   ]
  },
  {
   "cell_type": "code",
   "execution_count": 10,
   "metadata": {
    "colab": {
     "base_uri": "https://localhost:8080/",
     "height": 244
    },
    "id": "BuSbRkbzyy8k",
    "outputId": "499ede35-fc62-4542-ab9c-835d7dfc971d"
   },
   "outputs": [
    {
     "data": {
      "text/html": [
       "<div>\n",
       "<style scoped>\n",
       "    .dataframe tbody tr th:only-of-type {\n",
       "        vertical-align: middle;\n",
       "    }\n",
       "\n",
       "    .dataframe tbody tr th {\n",
       "        vertical-align: top;\n",
       "    }\n",
       "\n",
       "    .dataframe thead th {\n",
       "        text-align: right;\n",
       "    }\n",
       "</style>\n",
       "<table border=\"1\" class=\"dataframe\">\n",
       "  <thead>\n",
       "    <tr style=\"text-align: right;\">\n",
       "      <th></th>\n",
       "      <th>ProductID</th>\n",
       "      <th>reviewerName</th>\n",
       "      <th>overall</th>\n",
       "      <th>summary</th>\n",
       "      <th>reviewText</th>\n",
       "      <th>verified</th>\n",
       "      <th>vote</th>\n",
       "    </tr>\n",
       "  </thead>\n",
       "  <tbody>\n",
       "    <tr>\n",
       "      <th>0</th>\n",
       "      <td>7048911307</td>\n",
       "      <td>trapara</td>\n",
       "      <td>5.0</td>\n",
       "      <td>sound is great</td>\n",
       "      <td>I've had problems finding the right earbuds un...</td>\n",
       "      <td>1.0</td>\n",
       "      <td>0</td>\n",
       "    </tr>\n",
       "    <tr>\n",
       "      <th>1</th>\n",
       "      <td>7048911307</td>\n",
       "      <td>salatas123</td>\n",
       "      <td>5.0</td>\n",
       "      <td>ear buds</td>\n",
       "      <td>work great and very easy to use..</td>\n",
       "      <td>1.0</td>\n",
       "      <td>0</td>\n",
       "    </tr>\n",
       "    <tr>\n",
       "      <th>2</th>\n",
       "      <td>7048911307</td>\n",
       "      <td>camilo072010</td>\n",
       "      <td>5.0</td>\n",
       "      <td>Earpods</td>\n",
       "      <td>Work properly</td>\n",
       "      <td>1.0</td>\n",
       "      <td>0</td>\n",
       "    </tr>\n",
       "    <tr>\n",
       "      <th>3</th>\n",
       "      <td>5039309707</td>\n",
       "      <td>reyhouse77</td>\n",
       "      <td>4.0</td>\n",
       "      <td>Great for bicycling</td>\n",
       "      <td>I like these wireless earphones, because they ...</td>\n",
       "      <td>1.0</td>\n",
       "      <td>25</td>\n",
       "    </tr>\n",
       "  </tbody>\n",
       "</table>\n",
       "</div>"
      ],
      "text/plain": [
       "    ProductID  reviewerName  overall              summary  \\\n",
       "0  7048911307       trapara      5.0       sound is great   \n",
       "1  7048911307    salatas123      5.0             ear buds   \n",
       "2  7048911307  camilo072010      5.0              Earpods   \n",
       "3  5039309707    reyhouse77      4.0  Great for bicycling   \n",
       "\n",
       "                                          reviewText  verified  vote  \n",
       "0  I've had problems finding the right earbuds un...       1.0     0  \n",
       "1                  work great and very easy to use..       1.0     0  \n",
       "2                                      Work properly       1.0     0  \n",
       "3  I like these wireless earphones, because they ...       1.0    25  "
      ]
     },
     "execution_count": 10,
     "metadata": {},
     "output_type": "execute_result"
    }
   ],
   "source": [
    "clean_df.head(4)"
   ]
  },
  {
   "cell_type": "code",
   "execution_count": 11,
   "metadata": {
    "colab": {
     "base_uri": "https://localhost:8080/"
    },
    "id": "LIjKzNC0zxLo",
    "outputId": "381395cf-8ca0-42b3-8728-0bfbf8af4148"
   },
   "outputs": [
    {
     "data": {
      "text/plain": [
       "ProductID       0\n",
       "reviewerName    0\n",
       "overall         0\n",
       "summary         0\n",
       "reviewText      0\n",
       "verified        0\n",
       "vote            0\n",
       "dtype: int64"
      ]
     },
     "execution_count": 11,
     "metadata": {},
     "output_type": "execute_result"
    }
   ],
   "source": [
    "clean_df.isna().sum()"
   ]
  },
  {
   "cell_type": "code",
   "execution_count": 12,
   "metadata": {
    "colab": {
     "base_uri": "https://localhost:8080/"
    },
    "id": "GkCsqKTL1Qt9",
    "outputId": "1fa49a07-ebf7-4397-c5cb-07f9eecd91db"
   },
   "outputs": [
    {
     "data": {
      "text/plain": [
       "16"
      ]
     },
     "execution_count": 12,
     "metadata": {},
     "output_type": "execute_result"
    }
   ],
   "source": [
    "clean_df.duplicated().sum()"
   ]
  },
  {
   "cell_type": "code",
   "execution_count": 13,
   "metadata": {
    "colab": {
     "base_uri": "https://localhost:8080/",
     "height": 380
    },
    "id": "A_HPy8t51WiZ",
    "outputId": "ddc0a8b3-d67a-4d15-8812-08157f58e061"
   },
   "outputs": [
    {
     "data": {
      "text/html": [
       "<div>\n",
       "<style scoped>\n",
       "    .dataframe tbody tr th:only-of-type {\n",
       "        vertical-align: middle;\n",
       "    }\n",
       "\n",
       "    .dataframe tbody tr th {\n",
       "        vertical-align: top;\n",
       "    }\n",
       "\n",
       "    .dataframe thead th {\n",
       "        text-align: right;\n",
       "    }\n",
       "</style>\n",
       "<table border=\"1\" class=\"dataframe\">\n",
       "  <thead>\n",
       "    <tr style=\"text-align: right;\">\n",
       "      <th></th>\n",
       "      <th>ProductID</th>\n",
       "      <th>reviewerName</th>\n",
       "      <th>overall</th>\n",
       "      <th>summary</th>\n",
       "      <th>reviewText</th>\n",
       "      <th>verified</th>\n",
       "      <th>vote</th>\n",
       "    </tr>\n",
       "  </thead>\n",
       "  <tbody>\n",
       "    <tr>\n",
       "      <th>380</th>\n",
       "      <td>5037099498</td>\n",
       "      <td>emer_8577</td>\n",
       "      <td>3.0</td>\n",
       "      <td>Doesn't show bluetooth availability</td>\n",
       "      <td>I don't know why there was a picture of a char...</td>\n",
       "      <td>1.0</td>\n",
       "      <td>16</td>\n",
       "    </tr>\n",
       "    <tr>\n",
       "      <th>701</th>\n",
       "      <td>7040743210</td>\n",
       "      <td>onik6645</td>\n",
       "      <td>2.0</td>\n",
       "      <td>Great earbuds, terrible charging case.</td>\n",
       "      <td>The earbuds are really good for the price, but...</td>\n",
       "      <td>1.0</td>\n",
       "      <td>0</td>\n",
       "    </tr>\n",
       "    <tr>\n",
       "      <th>704</th>\n",
       "      <td>7040743210</td>\n",
       "      <td>tipipenk0</td>\n",
       "      <td>5.0</td>\n",
       "      <td>Great</td>\n",
       "      <td>These earphones are great for the price. The r...</td>\n",
       "      <td>1.0</td>\n",
       "      <td>0</td>\n",
       "    </tr>\n",
       "    <tr>\n",
       "      <th>705</th>\n",
       "      <td>7040743210</td>\n",
       "      <td>gasto-13</td>\n",
       "      <td>5.0</td>\n",
       "      <td>Great headphones</td>\n",
       "      <td>These things are great, good sound, easy to co...</td>\n",
       "      <td>1.0</td>\n",
       "      <td>0</td>\n",
       "    </tr>\n",
       "    <tr>\n",
       "      <th>706</th>\n",
       "      <td>7040743210</td>\n",
       "      <td>tyger16</td>\n",
       "      <td>5.0</td>\n",
       "      <td>Great!</td>\n",
       "      <td>Love these earphones! Easy to use, look cool a...</td>\n",
       "      <td>1.0</td>\n",
       "      <td>0</td>\n",
       "    </tr>\n",
       "  </tbody>\n",
       "</table>\n",
       "</div>"
      ],
      "text/plain": [
       "      ProductID reviewerName  overall                                 summary  \\\n",
       "380  5037099498    emer_8577      3.0     Doesn't show bluetooth availability   \n",
       "701  7040743210     onik6645      2.0  Great earbuds, terrible charging case.   \n",
       "704  7040743210    tipipenk0      5.0                                   Great   \n",
       "705  7040743210     gasto-13      5.0                        Great headphones   \n",
       "706  7040743210      tyger16      5.0                                  Great!   \n",
       "\n",
       "                                            reviewText  verified  vote  \n",
       "380  I don't know why there was a picture of a char...       1.0    16  \n",
       "701  The earbuds are really good for the price, but...       1.0     0  \n",
       "704  These earphones are great for the price. The r...       1.0     0  \n",
       "705  These things are great, good sound, easy to co...       1.0     0  \n",
       "706  Love these earphones! Easy to use, look cool a...       1.0     0  "
      ]
     },
     "execution_count": 13,
     "metadata": {},
     "output_type": "execute_result"
    }
   ],
   "source": [
    "clean_df[clean_df.duplicated()].head()"
   ]
  },
  {
   "cell_type": "code",
   "execution_count": 14,
   "metadata": {
    "colab": {
     "base_uri": "https://localhost:8080/",
     "height": 182
    },
    "id": "wc9MB5y71ekr",
    "outputId": "591d66ea-fbbe-417a-932f-b0dfbaabfde9"
   },
   "outputs": [
    {
     "data": {
      "text/html": [
       "<div>\n",
       "<style scoped>\n",
       "    .dataframe tbody tr th:only-of-type {\n",
       "        vertical-align: middle;\n",
       "    }\n",
       "\n",
       "    .dataframe tbody tr th {\n",
       "        vertical-align: top;\n",
       "    }\n",
       "\n",
       "    .dataframe thead th {\n",
       "        text-align: right;\n",
       "    }\n",
       "</style>\n",
       "<table border=\"1\" class=\"dataframe\">\n",
       "  <thead>\n",
       "    <tr style=\"text-align: right;\">\n",
       "      <th></th>\n",
       "      <th>ProductID</th>\n",
       "      <th>reviewerName</th>\n",
       "      <th>overall</th>\n",
       "      <th>summary</th>\n",
       "      <th>reviewText</th>\n",
       "      <th>verified</th>\n",
       "      <th>vote</th>\n",
       "    </tr>\n",
       "  </thead>\n",
       "  <tbody>\n",
       "    <tr>\n",
       "      <th>369</th>\n",
       "      <td>5037099498</td>\n",
       "      <td>emer_8577</td>\n",
       "      <td>3.0</td>\n",
       "      <td>Doesn't show bluetooth availability</td>\n",
       "      <td>I don't know why there was a picture of a char...</td>\n",
       "      <td>Yes</td>\n",
       "      <td>16</td>\n",
       "    </tr>\n",
       "    <tr>\n",
       "      <th>382</th>\n",
       "      <td>5037099498</td>\n",
       "      <td>emer_8577</td>\n",
       "      <td>3.0</td>\n",
       "      <td>Doesn't show bluetooth availability</td>\n",
       "      <td>I don't know why there was a picture of a char...</td>\n",
       "      <td>Yes</td>\n",
       "      <td>16</td>\n",
       "    </tr>\n",
       "  </tbody>\n",
       "</table>\n",
       "</div>"
      ],
      "text/plain": [
       "      ProductID reviewerName  overall                              summary  \\\n",
       "369  5037099498    emer_8577      3.0  Doesn't show bluetooth availability   \n",
       "382  5037099498    emer_8577      3.0  Doesn't show bluetooth availability   \n",
       "\n",
       "                                            reviewText verified  vote  \n",
       "369  I don't know why there was a picture of a char...      Yes    16  \n",
       "382  I don't know why there was a picture of a char...      Yes    16  "
      ]
     },
     "execution_count": 14,
     "metadata": {},
     "output_type": "execute_result"
    }
   ],
   "source": [
    "df[(df['reviewerName'] == 'emer_8577') & (df['ProductID'] == 5037099498)]"
   ]
  },
  {
   "cell_type": "code",
   "execution_count": 15,
   "metadata": {
    "id": "t1CVtGGa2xuk"
   },
   "outputs": [],
   "source": [
    "clean_df.drop_duplicates(inplace=True)"
   ]
  },
  {
   "cell_type": "code",
   "execution_count": 16,
   "metadata": {
    "colab": {
     "base_uri": "https://localhost:8080/"
    },
    "id": "bmY-DbcX3IXP",
    "outputId": "189528f9-b319-45af-afca-c8d07d795f6f"
   },
   "outputs": [
    {
     "name": "stdout",
     "output_type": "stream",
     "text": [
      "Number of duplicates: 0\n",
      "shape: (1874, 7)\n"
     ]
    }
   ],
   "source": [
    "print(f'Number of duplicates: {clean_df.duplicated().sum()}')\n",
    "print(f'shape: {clean_df.shape}')"
   ]
  },
  {
   "cell_type": "code",
   "execution_count": 17,
   "metadata": {
    "id": "CtYMNRKK3UH5"
   },
   "outputs": [],
   "source": [
    "import numpy as np\n",
    "import pandas as pd\n",
    "import matplotlib.pyplot as plt\n",
    "import seaborn as sns"
   ]
  },
  {
   "cell_type": "code",
   "execution_count": 18,
   "metadata": {
    "colab": {
     "base_uri": "https://localhost:8080/"
    },
    "id": "tMBEA_Ky3eaK",
    "outputId": "70f000eb-3142-4a3c-a12b-6ead686092db"
   },
   "outputs": [
    {
     "data": {
      "text/plain": [
       "Index(['ProductID', 'reviewerName', 'overall', 'summary', 'reviewText',\n",
       "       'verified', 'vote'],\n",
       "      dtype='object')"
      ]
     },
     "execution_count": 18,
     "metadata": {},
     "output_type": "execute_result"
    }
   ],
   "source": [
    "df.columns"
   ]
  },
  {
   "cell_type": "code",
   "execution_count": 19,
   "metadata": {
    "colab": {
     "base_uri": "https://localhost:8080/"
    },
    "id": "Oh0nKkC85ODS",
    "outputId": "505153d1-bf6b-4be7-d763-690461be45cd"
   },
   "outputs": [
    {
     "data": {
      "text/plain": [
       "mayvillage        4\n",
       "2011merryshop     4\n",
       "1478963ram        2\n",
       "balsamus-0        2\n",
       "victory36         2\n",
       "                 ..\n",
       "stamia-2012       1\n",
       "gswiderski0mv2    1\n",
       "uchugb-0          1\n",
       "sher-8045         1\n",
       "haywors_0         1\n",
       "Name: reviewerName, Length: 1864, dtype: int64"
      ]
     },
     "execution_count": 19,
     "metadata": {},
     "output_type": "execute_result"
    }
   ],
   "source": [
    "df[\"reviewerName\"].value_counts()"
   ]
  },
  {
   "cell_type": "code",
   "execution_count": 20,
   "metadata": {
    "colab": {
     "base_uri": "https://localhost:8080/"
    },
    "id": "nwGDeWT95U0S",
    "outputId": "fe796597-3f56-4f73-b892-176174361336"
   },
   "outputs": [
    {
     "data": {
      "text/plain": [
       "array([1, 1, 1, 1, 1, 1, 1, 1, 1, 1, 1, 1, 1, 1, 1, 1, 1, 1, 1, 1, 4])"
      ]
     },
     "execution_count": 20,
     "metadata": {},
     "output_type": "execute_result"
    }
   ],
   "source": [
    "np.quantile(df['reviewerName'].value_counts().values, np.arange(0,1.05,0.05)).astype(int)"
   ]
  },
  {
   "cell_type": "code",
   "execution_count": 21,
   "metadata": {
    "colab": {
     "base_uri": "https://localhost:8080/",
     "height": 537
    },
    "id": "cBAdX_bI5g4S",
    "outputId": "2f07a9fc-b423-4ba2-9ba5-88bedaee5ac8"
   },
   "outputs": [
    {
     "data": {
      "image/png": "[encoded data removed]",
      "text/plain": [
       "<Figure size 1080x792 with 15 Axes>"
      ]
     },
     "metadata": {
      "needs_background": "light"
     },
     "output_type": "display_data"
    }
   ],
   "source": [
    "plt.subplots(3,5, figsize=(15,11))\n",
    "for i in range(0,15):\n",
    "    #get reviewers ID\n",
    "    reviewer = df[\"reviewerName\"].value_counts().index[i]\n",
    "    #get value counts for each reviewer (the overall rating they give with each review)\n",
    "    data = df['overall'][df['reviewerName'] == reviewer].value_counts()\n",
    "    \n",
    "    #now let's look at a couple different reviewers and their rating pattern\n",
    "    plt.subplot(3,5,i+1)\n",
    "    plt.bar(data.index, data.values)\n",
    "    plt.title(reviewer)\n",
    "    plt.xlim(0,6)\n",
    "    plt.xticks(range(6))\n",
    "plt.show()"
   ]
  },
  {
   "cell_type": "code",
   "execution_count": 22,
   "metadata": {
    "id": "jVuk58HD7VTr"
   },
   "outputs": [],
   "source": [
    "map_numreviews = df['reviewerName'].value_counts().to_dict()\n",
    "df['multipleReviews_reviewer'] = df['reviewerName'].map(map_numreviews)\n",
    "df['multipleReviews_reviewer'] = np.where(df['multipleReviews_reviewer'] > 1, 1, 0)"
   ]
  },
  {
   "cell_type": "code",
   "execution_count": 23,
   "metadata": {
    "colab": {
     "base_uri": "https://localhost:8080/",
     "height": 285
    },
    "id": "DcAf7o6F88pf",
    "outputId": "e684e55f-ceee-4f3f-f476-6a4040b92814"
   },
   "outputs": [
    {
     "data": {
      "image/png": "[encoded data removed]",
      "text/plain": [
       "<Figure size 864x288 with 2 Axes>"
      ]
     },
     "metadata": {
      "needs_background": "light"
     },
     "output_type": "display_data"
    }
   ],
   "source": [
    "plt.subplots(1,2, figsize=(12,4))\n",
    "\n",
    "plt.subplot(1,2,1)\n",
    "sns.countplot(x='overall', data=df[df['multipleReviews_reviewer']==0])\n",
    "plt.title('ratings from reviewers with 1 review only')\n",
    "\n",
    "plt.subplot(1,2,2)\n",
    "sns.countplot(x='overall', data=df[df['multipleReviews_reviewer']==1])\n",
    "plt.title('ratings from reviewers with more than 1 review')\n",
    "\n",
    "plt.show()"
   ]
  },
  {
   "cell_type": "code",
   "execution_count": 24,
   "metadata": {
    "id": "xSDsv_l59YGA"
   },
   "outputs": [],
   "source": [
    "map_numreviews = df['ProductID'].value_counts().to_dict()\n",
    "df['numReviews_product'] = df['ProductID'].map(map_numreviews)"
   ]
  },
  {
   "cell_type": "code",
   "execution_count": 25,
   "metadata": {
    "id": "eQAD5NyA9rMe"
   },
   "outputs": [],
   "source": [
    "df['nameProvided'] = np.where(df['reviewerName'] != 'Amazon Customer',1,0)"
   ]
  },
  {
   "cell_type": "code",
   "execution_count": 26,
   "metadata": {
    "id": "PwpW9zkM97KT"
   },
   "outputs": [],
   "source": [
    "#adding word counts for review and summary columns"
   ]
  },
  {
   "cell_type": "code",
   "execution_count": 27,
   "metadata": {
    "id": "sUZJvgEy-Fel"
   },
   "outputs": [],
   "source": [
    "def featureEngin(dataframe):\n",
    "  dataframe['review_word_count'] = dataframe['reviewText'].str.split().str.len()\n",
    "  dataframe['summary_word_count'] = dataframe['summary'].str.split().str.len()\n",
    "  map_numreviews = dataframe['reviewerName'].value_counts().to_dict()\n",
    "  dataframe['multipleReviews_reviewer'] = dataframe['reviewerName'].map(map_numreviews)\n",
    "  dataframe['multipleReviews_reviewer'] = np.where(dataframe['multipleReviews_reviewer'] > 1, 1, 0)\n",
    "  #create new features that display if a reviewer only gave 5 star reviews or one star reviews\n",
    "  map_five = dataframe['overall'].groupby(dataframe['reviewerName']).agg(lambda x: (np.unique(x)==5).all()).to_dict()\n",
    "  map_one = dataframe['overall'].groupby(dataframe['reviewerName']).agg(lambda x: (np.unique(x)==1).all()).to_dict()\n",
    "  dataframe['reviewer_five_star_only'] = dataframe['reviewerName'].map(map_five)\n",
    "  dataframe['reviewer_one_star_only'] = dataframe['reviewerName'].map(map_one)\n",
    "  dataframe['reviewer_five_star_only'] = dataframe['reviewer_five_star_only'].astype(int)\n",
    "  dataframe['reviewer_one_star_only'] = dataframe['reviewer_one_star_only'].astype(int)\n",
    "  map_numreviews = dataframe['ProductID'].value_counts().to_dict()\n",
    "  dataframe['numReviews_product'] = dataframe['ProductID'].map(map_numreviews)\n",
    "  dataframe['nameProvided'] = np.where(dataframe['reviewerName'] != 'Amazon Customer',1,0)\n",
    "  return dataframe"
   ]
  },
  {
   "cell_type": "code",
   "execution_count": 28,
   "metadata": {
    "id": "wB4ZODrMDokB"
   },
   "outputs": [],
   "source": [
    "clean_data = featureEngin(clean_df)"
   ]
  },
  {
   "cell_type": "markdown",
   "metadata": {
    "id": "LsXt7UBuA_8J"
   },
   "source": [
    "### Data Exploration\n"
   ]
  },
  {
   "cell_type": "code",
   "execution_count": null,
   "metadata": {
    "id": "foFRTiwZA-fc"
   },
   "outputs": [],
   "source": []
  },
  {
   "cell_type": "code",
   "execution_count": 29,
   "metadata": {
    "colab": {
     "base_uri": "https://localhost:8080/",
     "height": 736
    },
    "id": "HZpmmcGUAbiM",
    "outputId": "44b3c832-5286-48bf-9fda-7d11c8fdf49c"
   },
   "outputs": [
    {
     "data": {
      "text/plain": [
       "<Figure size 432x288 with 0 Axes>"
      ]
     },
     "metadata": {},
     "output_type": "display_data"
    },
    {
     "data": {
      "image/png": "[encoded data removed]",
      "text/plain": [
       "<Figure size 1080x1080 with 42 Axes>"
      ]
     },
     "metadata": {
      "needs_background": "light"
     },
     "output_type": "display_data"
    }
   ],
   "source": [
    "plt.figure()\n",
    "sns.pairplot(df)\n",
    "plt.show()"
   ]
  },
  {
   "cell_type": "code",
   "execution_count": 30,
   "metadata": {
    "colab": {
     "base_uri": "https://localhost:8080/",
     "height": 170
    },
    "id": "3pTlHHWJAuZJ",
    "outputId": "a4c2d8da-44d8-454a-cf48-4410dae39d6e"
   },
   "outputs": [
    {
     "data": {
      "image/png": "[encoded data removed]",
      "text/plain": [
       "<Figure size 1296x288 with 3 Axes>"
      ]
     },
     "metadata": {
      "needs_background": "light"
     },
     "output_type": "display_data"
    }
   ],
   "source": [
    "plt.subplots(1,3, figsize=(18,4))\n",
    "\n",
    "plt.subplot(1,3,1)\n",
    "plt.bar(df['overall'].value_counts().index, df['overall'].value_counts().values)\n",
    "plt.xlabel('rating')\n",
    "plt.ylabel('count')\n",
    "\n",
    "plt.subplot(1,3,2)\n",
    "plt.bar(df['verified'].value_counts().index, df['verified'].value_counts().values)\n",
    "plt.xlabel('verified?')\n",
    "plt.ylabel('count')\n",
    "plt.xticks(range(0,2))\n",
    "\n",
    "plt.subplot(1,3,3)\n",
    "plt.hist(df['vote'], bins=20)\n",
    "plt.xlabel('num of votes')\n",
    "plt.ylabel('count')\n",
    "\n",
    "plt.tight_layout()\n",
    "plt.show()"
   ]
  },
  {
   "cell_type": "code",
   "execution_count": 31,
   "metadata": {
    "colab": {
     "base_uri": "https://localhost:8080/"
    },
    "id": "TswGbdd4BYbb",
    "outputId": "c877d2e3-08aa-4c90-9337-8f023bf1ae66"
   },
   "outputs": [
    {
     "name": "stdout",
     "output_type": "stream",
     "text": [
      "Reviews: 1892\n",
      "Products: 11\n",
      "Reviewers: 1864\n"
     ]
    }
   ],
   "source": [
    "print(f'Reviews: {len(df)}')\n",
    "print(f'Products: {len(df[\"ProductID\"].value_counts())}') \n",
    "print(f'Reviewers: {len(df[\"reviewerName\"].value_counts())}')"
   ]
  },
  {
   "cell_type": "code",
   "execution_count": 32,
   "metadata": {
    "colab": {
     "base_uri": "https://localhost:8080/",
     "height": 279
    },
    "id": "cgMFAbjZBhBp",
    "outputId": "2a18e5ed-18c3-4699-ef92-e706572102fc"
   },
   "outputs": [
    {
     "data": {
      "image/png": "[encoded data removed]",
      "text/plain": [
       "<Figure size 432x288 with 1 Axes>"
      ]
     },
     "metadata": {
      "needs_background": "light"
     },
     "output_type": "display_data"
    }
   ],
   "source": [
    "plt.figure()\n",
    "plt.hist(df['ProductID'].value_counts().values, bins=20)\n",
    "plt.xlabel('num Reviews')\n",
    "plt.ylabel('num Products')\n",
    "plt.show()"
   ]
  },
  {
   "cell_type": "code",
   "execution_count": 33,
   "metadata": {
    "colab": {
     "base_uri": "https://localhost:8080/"
    },
    "id": "DTpoZL6UBrOU",
    "outputId": "e5fccb96-ce93-44ab-c467-a00bbe169c5f"
   },
   "outputs": [
    {
     "data": {
      "text/plain": [
       "array([   3,    6,   10,   15,   20,   22,   25,   27,   30,   43,   56,\n",
       "         74,   93,   96,  100,  129,  159,  194,  229,  698, 1167])"
      ]
     },
     "execution_count": 33,
     "metadata": {},
     "output_type": "execute_result"
    }
   ],
   "source": [
    "np.quantile(df['ProductID'].value_counts().values, np.arange(0,1.05,0.05)).astype(int)"
   ]
  },
  {
   "cell_type": "code",
   "execution_count": null,
   "metadata": {
    "id": "G3umeXqhoXT1"
   },
   "outputs": [],
   "source": []
  },
  {
   "cell_type": "markdown",
   "metadata": {
    "id": "cc13PhpOB3sp"
   },
   "source": [
    "2. Temporal trends\n",
    "Let's explore if there were any trends over time in the data.\n",
    "\n",
    "Is there a trend between year and number of verified purchases?\n"
   ]
  },
  {
   "cell_type": "code",
   "execution_count": 34,
   "metadata": {
    "id": "m4chCmqEVq2C"
   },
   "outputs": [],
   "source": [
    "from sklearn.metrics import confusion_matrix\n",
    "from sklearn.feature_extraction.text import CountVectorizer\n",
    "from sklearn.feature_extraction.text import TfidfTransformer\n",
    "from sklearn.feature_extraction.text import TfidfVectorizer\n",
    "from sklearn import metrics\n",
    "from sklearn.datasets import load_files"
   ]
  },
  {
   "cell_type": "code",
   "execution_count": 35,
   "metadata": {
    "id": "WOY31l4_lbFU"
   },
   "outputs": [
    {
     "name": "stderr",
     "output_type": "stream",
     "text": [
      "[nltk_data] Downloading package stopwords to\n",
      "[nltk_data]     /Users/shreya/nltk_data...\n",
      "[nltk_data]   Package stopwords is already up-to-date!\n"
     ]
    }
   ],
   "source": [
    "import functions_library as fl"
   ]
  },
  {
   "cell_type": "code",
   "execution_count": 36,
   "metadata": {
    "colab": {
     "base_uri": "https://localhost:8080/"
    },
    "id": "qNO2HxBwkNud",
    "outputId": "68b8ee8b-305d-4ea3-cee4-eb0ec32b433d"
   },
   "outputs": [
    {
     "name": "stderr",
     "output_type": "stream",
     "text": [
      "[nltk_data] Downloading package wordnet to /Users/shreya/nltk_data...\n",
      "[nltk_data]   Package wordnet is already up-to-date!\n"
     ]
    },
    {
     "data": {
      "text/plain": [
       "True"
      ]
     },
     "execution_count": 36,
     "metadata": {},
     "output_type": "execute_result"
    }
   ],
   "source": [
    "import nltk\n",
    "nltk.download('wordnet')"
   ]
  },
  {
   "cell_type": "code",
   "execution_count": 40,
   "metadata": {
    "colab": {
     "base_uri": "https://localhost:8080/",
     "height": 481
    },
    "id": "nm8jcn_2B0rz",
    "outputId": "762faf7b-fa4f-439e-b324-6ab6b365ef0c"
   },
   "outputs": [],
   "source": [
    "min_df_list = range(20,20,25)\n",
    "numTokens_lem = []\n",
    "numTokens_stem = []\n",
    "\n",
    "for i in min_df_list:\n",
    "    print(f'beginning tokenization with min_df = {i}')\n",
    "    tokens_l = (fl.tfidf(clean_data['reviewText'], tokenizer=fl.spl_tokenizer, min_df=30, ngram_range=(1,2))).shape[1]\n",
    "    print(f'vectorization with lemmatization for min_df = {i} complete')\n",
    "    tokens_s = (fl.tfidf(clean_data['reviewText'], tokenizer=fl.sps_tokenizer, min_df=i, ngram_range=(1,2))).shape[1]\n",
    "    print(f'vectorization with stemming for min_df = {i} complete')\n",
    "\n",
    "    #appending number of tokens to the appropriate list\n",
    "    numTokens_lem.append(tokens_l)\n",
    "    numTokens_stem.append(tokens_s)\n",
    "    print(f'number of tokens appending to corresponding list. min_df = {i} complete')\n",
    "\n",
    "   \n",
    "    "
   ]
  },
  {
   "cell_type": "markdown",
   "metadata": {
    "id": "8jdqeAyLqyGw"
   },
   "source": [
    "2. Scaling non-token Features\n"
   ]
  },
  {
   "cell_type": "code",
   "execution_count": 41,
   "metadata": {
    "id": "qkOEDbCyqxye"
   },
   "outputs": [],
   "source": [
    "df2=df.select_dtypes(include=['int32','int64'])"
   ]
  },
  {
   "cell_type": "code",
   "execution_count": 42,
   "metadata": {
    "id": "qq3odZ_bqb8X"
   },
   "outputs": [],
   "source": [
    "from sklearn.preprocessing import MinMaxScaler"
   ]
  },
  {
   "cell_type": "code",
   "execution_count": 43,
   "metadata": {
    "id": "s9-jC-LcCVvb"
   },
   "outputs": [],
   "source": [
    "mm = MinMaxScaler()"
   ]
  },
  {
   "cell_type": "code",
   "execution_count": 44,
   "metadata": {
    "id": "laQVYBKjrDfR"
   },
   "outputs": [],
   "source": [
    "df3 = mm.fit_transform(df2)"
   ]
  },
  {
   "cell_type": "code",
   "execution_count": 45,
   "metadata": {
    "colab": {
     "base_uri": "https://localhost:8080/",
     "height": 320
    },
    "id": "MlVpVixbrRbV",
    "outputId": "4d8f51ca-7de6-4745-921d-f2f07c7aa576"
   },
   "outputs": [
    {
     "data": {
      "text/html": [
       "<div>\n",
       "<style scoped>\n",
       "    .dataframe tbody tr th:only-of-type {\n",
       "        vertical-align: middle;\n",
       "    }\n",
       "\n",
       "    .dataframe tbody tr th {\n",
       "        vertical-align: top;\n",
       "    }\n",
       "\n",
       "    .dataframe thead th {\n",
       "        text-align: right;\n",
       "    }\n",
       "</style>\n",
       "<table border=\"1\" class=\"dataframe\">\n",
       "  <thead>\n",
       "    <tr style=\"text-align: right;\">\n",
       "      <th></th>\n",
       "      <th>ProductID</th>\n",
       "      <th>vote</th>\n",
       "      <th>multipleReviews_reviewer</th>\n",
       "      <th>numReviews_product</th>\n",
       "      <th>nameProvided</th>\n",
       "    </tr>\n",
       "  </thead>\n",
       "  <tbody>\n",
       "    <tr>\n",
       "      <th>count</th>\n",
       "      <td>1892.000000</td>\n",
       "      <td>1892.000000</td>\n",
       "      <td>1892.000000</td>\n",
       "      <td>1892.000000</td>\n",
       "      <td>1892.0</td>\n",
       "    </tr>\n",
       "    <tr>\n",
       "      <th>mean</th>\n",
       "      <td>0.109326</td>\n",
       "      <td>0.011593</td>\n",
       "      <td>0.027484</td>\n",
       "      <td>0.661927</td>\n",
       "      <td>0.0</td>\n",
       "    </tr>\n",
       "    <tr>\n",
       "      <th>std</th>\n",
       "      <td>0.195415</td>\n",
       "      <td>0.058726</td>\n",
       "      <td>0.163533</td>\n",
       "      <td>0.430777</td>\n",
       "      <td>0.0</td>\n",
       "    </tr>\n",
       "    <tr>\n",
       "      <th>min</th>\n",
       "      <td>0.000000</td>\n",
       "      <td>0.000000</td>\n",
       "      <td>0.000000</td>\n",
       "      <td>0.000000</td>\n",
       "      <td>0.0</td>\n",
       "    </tr>\n",
       "    <tr>\n",
       "      <th>25%</th>\n",
       "      <td>0.000000</td>\n",
       "      <td>0.000000</td>\n",
       "      <td>0.000000</td>\n",
       "      <td>0.134021</td>\n",
       "      <td>0.0</td>\n",
       "    </tr>\n",
       "    <tr>\n",
       "      <th>50%</th>\n",
       "      <td>0.000000</td>\n",
       "      <td>0.000000</td>\n",
       "      <td>0.000000</td>\n",
       "      <td>1.000000</td>\n",
       "      <td>0.0</td>\n",
       "    </tr>\n",
       "    <tr>\n",
       "      <th>75%</th>\n",
       "      <td>0.120467</td>\n",
       "      <td>0.000000</td>\n",
       "      <td>0.000000</td>\n",
       "      <td>1.000000</td>\n",
       "      <td>0.0</td>\n",
       "    </tr>\n",
       "    <tr>\n",
       "      <th>max</th>\n",
       "      <td>1.000000</td>\n",
       "      <td>1.000000</td>\n",
       "      <td>1.000000</td>\n",
       "      <td>1.000000</td>\n",
       "      <td>0.0</td>\n",
       "    </tr>\n",
       "  </tbody>\n",
       "</table>\n",
       "</div>"
      ],
      "text/plain": [
       "         ProductID         vote  multipleReviews_reviewer  numReviews_product  \\\n",
       "count  1892.000000  1892.000000               1892.000000         1892.000000   \n",
       "mean      0.109326     0.011593                  0.027484            0.661927   \n",
       "std       0.195415     0.058726                  0.163533            0.430777   \n",
       "min       0.000000     0.000000                  0.000000            0.000000   \n",
       "25%       0.000000     0.000000                  0.000000            0.134021   \n",
       "50%       0.000000     0.000000                  0.000000            1.000000   \n",
       "75%       0.120467     0.000000                  0.000000            1.000000   \n",
       "max       1.000000     1.000000                  1.000000            1.000000   \n",
       "\n",
       "       nameProvided  \n",
       "count        1892.0  \n",
       "mean            0.0  \n",
       "std             0.0  \n",
       "min             0.0  \n",
       "25%             0.0  \n",
       "50%             0.0  \n",
       "75%             0.0  \n",
       "max             0.0  "
      ]
     },
     "execution_count": 45,
     "metadata": {},
     "output_type": "execute_result"
    }
   ],
   "source": [
    "pd.DataFrame(df3, columns = df2.columns).describe()"
   ]
  },
  {
   "cell_type": "markdown",
   "metadata": {
    "id": "2dq-9yyhraEw"
   },
   "source": [
    "RobustScaler\n"
   ]
  },
  {
   "cell_type": "code",
   "execution_count": 46,
   "metadata": {
    "id": "1-Ew41uOrY0y"
   },
   "outputs": [],
   "source": [
    "from sklearn.preprocessing import RobustScaler"
   ]
  },
  {
   "cell_type": "code",
   "execution_count": 47,
   "metadata": {
    "id": "18gCF8I6rgPX"
   },
   "outputs": [],
   "source": [
    "rs = RobustScaler(with_centering=False)"
   ]
  },
  {
   "cell_type": "code",
   "execution_count": 48,
   "metadata": {
    "id": "skYD4-TirjKS"
   },
   "outputs": [],
   "source": [
    "df3 = rs.fit_transform(df2)"
   ]
  },
  {
   "cell_type": "code",
   "execution_count": 49,
   "metadata": {
    "colab": {
     "base_uri": "https://localhost:8080/",
     "height": 320
    },
    "id": "x0Ehh69Wrm1W",
    "outputId": "6076c847-959f-4152-8cf4-c8e48b06d96f"
   },
   "outputs": [
    {
     "data": {
      "text/html": [
       "<div>\n",
       "<style scoped>\n",
       "    .dataframe tbody tr th:only-of-type {\n",
       "        vertical-align: middle;\n",
       "    }\n",
       "\n",
       "    .dataframe tbody tr th {\n",
       "        vertical-align: top;\n",
       "    }\n",
       "\n",
       "    .dataframe thead th {\n",
       "        text-align: right;\n",
       "    }\n",
       "</style>\n",
       "<table border=\"1\" class=\"dataframe\">\n",
       "  <thead>\n",
       "    <tr style=\"text-align: right;\">\n",
       "      <th></th>\n",
       "      <th>ProductID</th>\n",
       "      <th>vote</th>\n",
       "      <th>multipleReviews_reviewer</th>\n",
       "      <th>numReviews_product</th>\n",
       "      <th>nameProvided</th>\n",
       "    </tr>\n",
       "  </thead>\n",
       "  <tbody>\n",
       "    <tr>\n",
       "      <th>count</th>\n",
       "      <td>1892.000000</td>\n",
       "      <td>1892.000000</td>\n",
       "      <td>1892.000000</td>\n",
       "      <td>1892.000000</td>\n",
       "      <td>1892.0</td>\n",
       "    </tr>\n",
       "    <tr>\n",
       "      <th>mean</th>\n",
       "      <td>1.748332</td>\n",
       "      <td>0.881078</td>\n",
       "      <td>0.027484</td>\n",
       "      <td>0.767344</td>\n",
       "      <td>1.0</td>\n",
       "    </tr>\n",
       "    <tr>\n",
       "      <th>std</th>\n",
       "      <td>1.622145</td>\n",
       "      <td>4.463154</td>\n",
       "      <td>0.163533</td>\n",
       "      <td>0.497444</td>\n",
       "      <td>0.0</td>\n",
       "    </tr>\n",
       "    <tr>\n",
       "      <th>min</th>\n",
       "      <td>0.840810</td>\n",
       "      <td>0.000000</td>\n",
       "      <td>0.000000</td>\n",
       "      <td>0.002976</td>\n",
       "      <td>1.0</td>\n",
       "    </tr>\n",
       "    <tr>\n",
       "      <th>25%</th>\n",
       "      <td>0.840810</td>\n",
       "      <td>0.000000</td>\n",
       "      <td>0.000000</td>\n",
       "      <td>0.157738</td>\n",
       "      <td>1.0</td>\n",
       "    </tr>\n",
       "    <tr>\n",
       "      <th>50%</th>\n",
       "      <td>0.840810</td>\n",
       "      <td>0.000000</td>\n",
       "      <td>0.000000</td>\n",
       "      <td>1.157738</td>\n",
       "      <td>1.0</td>\n",
       "    </tr>\n",
       "    <tr>\n",
       "      <th>75%</th>\n",
       "      <td>1.840810</td>\n",
       "      <td>0.000000</td>\n",
       "      <td>0.000000</td>\n",
       "      <td>1.157738</td>\n",
       "      <td>1.0</td>\n",
       "    </tr>\n",
       "    <tr>\n",
       "      <th>max</th>\n",
       "      <td>9.141836</td>\n",
       "      <td>76.000000</td>\n",
       "      <td>1.000000</td>\n",
       "      <td>1.157738</td>\n",
       "      <td>1.0</td>\n",
       "    </tr>\n",
       "  </tbody>\n",
       "</table>\n",
       "</div>"
      ],
      "text/plain": [
       "         ProductID         vote  multipleReviews_reviewer  numReviews_product  \\\n",
       "count  1892.000000  1892.000000               1892.000000         1892.000000   \n",
       "mean      1.748332     0.881078                  0.027484            0.767344   \n",
       "std       1.622145     4.463154                  0.163533            0.497444   \n",
       "min       0.840810     0.000000                  0.000000            0.002976   \n",
       "25%       0.840810     0.000000                  0.000000            0.157738   \n",
       "50%       0.840810     0.000000                  0.000000            1.157738   \n",
       "75%       1.840810     0.000000                  0.000000            1.157738   \n",
       "max       9.141836    76.000000                  1.000000            1.157738   \n",
       "\n",
       "       nameProvided  \n",
       "count        1892.0  \n",
       "mean            1.0  \n",
       "std             0.0  \n",
       "min             1.0  \n",
       "25%             1.0  \n",
       "50%             1.0  \n",
       "75%             1.0  \n",
       "max             1.0  "
      ]
     },
     "execution_count": 49,
     "metadata": {},
     "output_type": "execute_result"
    }
   ],
   "source": [
    "pd.DataFrame(df3, columns=df2.columns).describe()\n"
   ]
  },
  {
   "cell_type": "markdown",
   "metadata": {
    "id": "nYkTYvswrqVM"
   },
   "source": [
    "StandardScaler\n"
   ]
  },
  {
   "cell_type": "code",
   "execution_count": 50,
   "metadata": {
    "id": "Hwm5W88_rpsE"
   },
   "outputs": [],
   "source": [
    "from sklearn.preprocessing import StandardScaler"
   ]
  },
  {
   "cell_type": "code",
   "execution_count": 51,
   "metadata": {
    "id": "yrR6FX7AtXyy"
   },
   "outputs": [],
   "source": [
    "ss = StandardScaler()"
   ]
  },
  {
   "cell_type": "code",
   "execution_count": 52,
   "metadata": {
    "id": "Hs4657cDtaSC"
   },
   "outputs": [],
   "source": [
    "df3 = ss.fit_transform(df2)"
   ]
  },
  {
   "cell_type": "code",
   "execution_count": 53,
   "metadata": {
    "colab": {
     "base_uri": "https://localhost:8080/",
     "height": 390
    },
    "id": "G8h-gS0Ktc4I",
    "outputId": "34426fc3-3ff7-44f1-b2a6-07fae30b8b0d"
   },
   "outputs": [
    {
     "data": {
      "text/html": [
       "<div>\n",
       "<style scoped>\n",
       "    .dataframe tbody tr th:only-of-type {\n",
       "        vertical-align: middle;\n",
       "    }\n",
       "\n",
       "    .dataframe tbody tr th {\n",
       "        vertical-align: top;\n",
       "    }\n",
       "\n",
       "    .dataframe thead th {\n",
       "        text-align: right;\n",
       "    }\n",
       "</style>\n",
       "<table border=\"1\" class=\"dataframe\">\n",
       "  <thead>\n",
       "    <tr style=\"text-align: right;\">\n",
       "      <th></th>\n",
       "      <th>ProductID</th>\n",
       "      <th>vote</th>\n",
       "      <th>multipleReviews_reviewer</th>\n",
       "      <th>numReviews_product</th>\n",
       "      <th>nameProvided</th>\n",
       "    </tr>\n",
       "  </thead>\n",
       "  <tbody>\n",
       "    <tr>\n",
       "      <th>count</th>\n",
       "      <td>1.892000e+03</td>\n",
       "      <td>1.892000e+03</td>\n",
       "      <td>1.892000e+03</td>\n",
       "      <td>1.892000e+03</td>\n",
       "      <td>1892.0</td>\n",
       "    </tr>\n",
       "    <tr>\n",
       "      <th>mean</th>\n",
       "      <td>5.667067e-15</td>\n",
       "      <td>8.177039e-17</td>\n",
       "      <td>8.463690e-16</td>\n",
       "      <td>-1.193044e-14</td>\n",
       "      <td>0.0</td>\n",
       "    </tr>\n",
       "    <tr>\n",
       "      <th>std</th>\n",
       "      <td>1.000264e+00</td>\n",
       "      <td>1.000264e+00</td>\n",
       "      <td>1.000264e+00</td>\n",
       "      <td>1.000264e+00</td>\n",
       "      <td>0.0</td>\n",
       "    </tr>\n",
       "    <tr>\n",
       "      <th>min</th>\n",
       "      <td>-5.596057e-01</td>\n",
       "      <td>-1.974637e-01</td>\n",
       "      <td>-1.681097e-01</td>\n",
       "      <td>-1.536997e+00</td>\n",
       "      <td>0.0</td>\n",
       "    </tr>\n",
       "    <tr>\n",
       "      <th>25%</th>\n",
       "      <td>-5.596057e-01</td>\n",
       "      <td>-1.974637e-01</td>\n",
       "      <td>-1.681097e-01</td>\n",
       "      <td>-1.225800e+00</td>\n",
       "      <td>0.0</td>\n",
       "    </tr>\n",
       "    <tr>\n",
       "      <th>50%</th>\n",
       "      <td>-5.596057e-01</td>\n",
       "      <td>-1.974637e-01</td>\n",
       "      <td>-1.681097e-01</td>\n",
       "      <td>7.850064e-01</td>\n",
       "      <td>0.0</td>\n",
       "    </tr>\n",
       "    <tr>\n",
       "      <th>75%</th>\n",
       "      <td>5.702491e-02</td>\n",
       "      <td>-1.974637e-01</td>\n",
       "      <td>-1.681097e-01</td>\n",
       "      <td>7.850064e-01</td>\n",
       "      <td>0.0</td>\n",
       "    </tr>\n",
       "    <tr>\n",
       "      <th>max</th>\n",
       "      <td>4.559061e+00</td>\n",
       "      <td>1.683535e+01</td>\n",
       "      <td>5.948497e+00</td>\n",
       "      <td>7.850064e-01</td>\n",
       "      <td>0.0</td>\n",
       "    </tr>\n",
       "  </tbody>\n",
       "</table>\n",
       "</div>"
      ],
      "text/plain": [
       "          ProductID          vote  multipleReviews_reviewer  \\\n",
       "count  1.892000e+03  1.892000e+03              1.892000e+03   \n",
       "mean   5.667067e-15  8.177039e-17              8.463690e-16   \n",
       "std    1.000264e+00  1.000264e+00              1.000264e+00   \n",
       "min   -5.596057e-01 -1.974637e-01             -1.681097e-01   \n",
       "25%   -5.596057e-01 -1.974637e-01             -1.681097e-01   \n",
       "50%   -5.596057e-01 -1.974637e-01             -1.681097e-01   \n",
       "75%    5.702491e-02 -1.974637e-01             -1.681097e-01   \n",
       "max    4.559061e+00  1.683535e+01              5.948497e+00   \n",
       "\n",
       "       numReviews_product  nameProvided  \n",
       "count        1.892000e+03        1892.0  \n",
       "mean        -1.193044e-14           0.0  \n",
       "std          1.000264e+00           0.0  \n",
       "min         -1.536997e+00           0.0  \n",
       "25%         -1.225800e+00           0.0  \n",
       "50%          7.850064e-01           0.0  \n",
       "75%          7.850064e-01           0.0  \n",
       "max          7.850064e-01           0.0  "
      ]
     },
     "execution_count": 53,
     "metadata": {},
     "output_type": "execute_result"
    }
   ],
   "source": [
    "pd.DataFrame(df3, columns = df2.columns).describe()"
   ]
  },
  {
   "cell_type": "markdown",
   "metadata": {
    "id": "GvvULTJStp7x"
   },
   "source": [
    "Part 5: PCA and Modelling"
   ]
  },
  {
   "cell_type": "code",
   "execution_count": 54,
   "metadata": {
    "id": "38zxSXwitmx5"
   },
   "outputs": [],
   "source": [
    "import numpy as np\n",
    "import pandas as pd\n",
    "import matplotlib.pyplot as plt"
   ]
  },
  {
   "cell_type": "code",
   "execution_count": 55,
   "metadata": {
    "id": "1nNMa18xH0-Q"
   },
   "outputs": [],
   "source": [
    "import functions_library as fl"
   ]
  },
  {
   "cell_type": "code",
   "execution_count": 56,
   "metadata": {
    "colab": {
     "base_uri": "https://localhost:8080/"
    },
    "id": "tgCdBkPvLRbr",
    "outputId": "1ef70cf5-24b2-4232-b1e9-635997653954"
   },
   "outputs": [
    {
     "name": "stderr",
     "output_type": "stream",
     "text": [
      "[nltk_data] Downloading package wordnet to /Users/shreya/nltk_data...\n",
      "[nltk_data]   Package wordnet is already up-to-date!\n"
     ]
    },
    {
     "data": {
      "text/plain": [
       "True"
      ]
     },
     "execution_count": 56,
     "metadata": {},
     "output_type": "execute_result"
    }
   ],
   "source": [
    "import nltk\n",
    "nltk.download('wordnet')"
   ]
  },
  {
   "cell_type": "code",
   "execution_count": 57,
   "metadata": {
    "id": "DnM1wUcWrSiq"
   },
   "outputs": [],
   "source": [
    "from sklearn.feature_extraction.text import TfidfVectorizer"
   ]
  },
  {
   "cell_type": "code",
   "execution_count": 60,
   "metadata": {
    "colab": {
     "base_uri": "https://localhost:8080/",
     "height": 394
    },
    "id": "fkbXQ1oBtmaY",
    "outputId": "a19ed333-8e72-4c8d-990c-7b4d3b21b060"
   },
   "outputs": [],
   "source": [
    "\n",
    "review_tokens = fl.tfidf(clean_data['reviewText'], tokenizer=fl.spl_tokenizer, ngram_range=(1,2), min_df=10)"
   ]
  },
  {
   "cell_type": "code",
   "execution_count": 61,
   "metadata": {
    "colab": {
     "base_uri": "https://localhost:8080/"
    },
    "id": "YB3hBwGTpkEH",
    "outputId": "ea3e7c78-905e-4d24-bbd9-62149f03dc16"
   },
   "outputs": [],
   "source": [
    "summary_tokens = fl.tfidf(df['summary'], tokenizer=fl.spl_tokenizer, ngram_range=(1,2), min_df=5)"
   ]
  },
  {
   "cell_type": "markdown",
   "metadata": {
    "id": "5Wj1xHA42izv"
   },
   "source": [
    "2. Scale numeric features\n",
    "Will be using the MinMaxScaler to scale the non-token features."
   ]
  },
  {
   "cell_type": "code",
   "execution_count": 62,
   "metadata": {
    "id": "cyYD-ywM2XfB"
   },
   "outputs": [],
   "source": [
    "df2=df.select_dtypes(include=['int32','int64'])"
   ]
  },
  {
   "cell_type": "code",
   "execution_count": 63,
   "metadata": {
    "id": "9KUkG5472sV2"
   },
   "outputs": [],
   "source": [
    "from sklearn.preprocessing import MinMaxScaler"
   ]
  },
  {
   "cell_type": "code",
   "execution_count": 64,
   "metadata": {
    "id": "slXndqqg2vrv"
   },
   "outputs": [],
   "source": [
    "mm = MinMaxScaler()"
   ]
  },
  {
   "cell_type": "code",
   "execution_count": 65,
   "metadata": {
    "id": "-waxi7LC2yVj"
   },
   "outputs": [],
   "source": [
    "df3 = mm.fit_transform(df2)"
   ]
  },
  {
   "cell_type": "code",
   "execution_count": 66,
   "metadata": {
    "id": "eptVvmrd23w4"
   },
   "outputs": [],
   "source": [
    "df_scaled = pd.DataFrame(df3, columns = df2.columns)"
   ]
  },
  {
   "cell_type": "code",
   "execution_count": 67,
   "metadata": {
    "colab": {
     "base_uri": "https://localhost:8080/"
    },
    "id": "-WBopdSG26ev",
    "outputId": "c65dc001-384e-463b-a4bf-a305c7e62550"
   },
   "outputs": [
    {
     "data": {
      "text/plain": [
       "(1892, 5)"
      ]
     },
     "execution_count": 67,
     "metadata": {},
     "output_type": "execute_result"
    }
   ],
   "source": [
    "df_scaled.shape"
   ]
  },
  {
   "cell_type": "code",
   "execution_count": 68,
   "metadata": {
    "id": "3MXSzmoU2_zf"
   },
   "outputs": [],
   "source": [
    "del df3, df2\n"
   ]
  },
  {
   "cell_type": "code",
   "execution_count": 69,
   "metadata": {
    "id": "WwGNyIBipcYK"
   },
   "outputs": [],
   "source": [
    "df_final = pd.concat([df_scaled, review_tokens, summary_tokens], axis = 1)"
   ]
  },
  {
   "cell_type": "code",
   "execution_count": 70,
   "metadata": {
    "colab": {
     "base_uri": "https://localhost:8080/",
     "height": 273
    },
    "id": "H8cRFakz3C1D",
    "outputId": "9e54fe77-e2a1-4ec9-ebf6-bf995f196cee"
   },
   "outputs": [
    {
     "data": {
      "text/html": [
       "<div>\n",
       "<style scoped>\n",
       "    .dataframe tbody tr th:only-of-type {\n",
       "        vertical-align: middle;\n",
       "    }\n",
       "\n",
       "    .dataframe tbody tr th {\n",
       "        vertical-align: top;\n",
       "    }\n",
       "\n",
       "    .dataframe thead th {\n",
       "        text-align: right;\n",
       "    }\n",
       "</style>\n",
       "<table border=\"1\" class=\"dataframe\">\n",
       "  <thead>\n",
       "    <tr style=\"text-align: right;\">\n",
       "      <th></th>\n",
       "      <th>ProductID</th>\n",
       "      <th>vote</th>\n",
       "      <th>multipleReviews_reviewer</th>\n",
       "      <th>numReviews_product</th>\n",
       "      <th>nameProvided</th>\n",
       "      <th>r_1</th>\n",
       "      <th>r_10</th>\n",
       "      <th>r_100</th>\n",
       "      <th>r_1st</th>\n",
       "      <th>r_2</th>\n",
       "      <th>...</th>\n",
       "      <th>s_work</th>\n",
       "      <th>s_work s_great</th>\n",
       "      <th>s_work s_well</th>\n",
       "      <th>s_worked</th>\n",
       "      <th>s_working</th>\n",
       "      <th>s_worth</th>\n",
       "      <th>s_worth s_money</th>\n",
       "      <th>s_would</th>\n",
       "      <th>s_wow</th>\n",
       "      <th>s_yet</th>\n",
       "    </tr>\n",
       "  </thead>\n",
       "  <tbody>\n",
       "    <tr>\n",
       "      <th>1887</th>\n",
       "      <td>0.0</td>\n",
       "      <td>0.0</td>\n",
       "      <td>0.0</td>\n",
       "      <td>1.0</td>\n",
       "      <td>0.0</td>\n",
       "      <td>NaN</td>\n",
       "      <td>NaN</td>\n",
       "      <td>NaN</td>\n",
       "      <td>NaN</td>\n",
       "      <td>NaN</td>\n",
       "      <td>...</td>\n",
       "      <td>0.0</td>\n",
       "      <td>0.0</td>\n",
       "      <td>0.0</td>\n",
       "      <td>0.0</td>\n",
       "      <td>0.0</td>\n",
       "      <td>0.0</td>\n",
       "      <td>0.0</td>\n",
       "      <td>0.0</td>\n",
       "      <td>0.0</td>\n",
       "      <td>0.0</td>\n",
       "    </tr>\n",
       "    <tr>\n",
       "      <th>1888</th>\n",
       "      <td>0.0</td>\n",
       "      <td>0.0</td>\n",
       "      <td>0.0</td>\n",
       "      <td>1.0</td>\n",
       "      <td>0.0</td>\n",
       "      <td>NaN</td>\n",
       "      <td>NaN</td>\n",
       "      <td>NaN</td>\n",
       "      <td>NaN</td>\n",
       "      <td>NaN</td>\n",
       "      <td>...</td>\n",
       "      <td>0.0</td>\n",
       "      <td>0.0</td>\n",
       "      <td>0.0</td>\n",
       "      <td>0.0</td>\n",
       "      <td>0.0</td>\n",
       "      <td>0.0</td>\n",
       "      <td>0.0</td>\n",
       "      <td>0.0</td>\n",
       "      <td>0.0</td>\n",
       "      <td>0.0</td>\n",
       "    </tr>\n",
       "    <tr>\n",
       "      <th>1889</th>\n",
       "      <td>0.0</td>\n",
       "      <td>0.0</td>\n",
       "      <td>0.0</td>\n",
       "      <td>1.0</td>\n",
       "      <td>0.0</td>\n",
       "      <td>NaN</td>\n",
       "      <td>NaN</td>\n",
       "      <td>NaN</td>\n",
       "      <td>NaN</td>\n",
       "      <td>NaN</td>\n",
       "      <td>...</td>\n",
       "      <td>0.0</td>\n",
       "      <td>0.0</td>\n",
       "      <td>0.0</td>\n",
       "      <td>0.0</td>\n",
       "      <td>0.0</td>\n",
       "      <td>0.0</td>\n",
       "      <td>0.0</td>\n",
       "      <td>0.0</td>\n",
       "      <td>0.0</td>\n",
       "      <td>0.0</td>\n",
       "    </tr>\n",
       "    <tr>\n",
       "      <th>1890</th>\n",
       "      <td>0.0</td>\n",
       "      <td>0.0</td>\n",
       "      <td>0.0</td>\n",
       "      <td>1.0</td>\n",
       "      <td>0.0</td>\n",
       "      <td>NaN</td>\n",
       "      <td>NaN</td>\n",
       "      <td>NaN</td>\n",
       "      <td>NaN</td>\n",
       "      <td>NaN</td>\n",
       "      <td>...</td>\n",
       "      <td>0.0</td>\n",
       "      <td>0.0</td>\n",
       "      <td>0.0</td>\n",
       "      <td>0.0</td>\n",
       "      <td>0.0</td>\n",
       "      <td>0.0</td>\n",
       "      <td>0.0</td>\n",
       "      <td>0.0</td>\n",
       "      <td>0.0</td>\n",
       "      <td>0.0</td>\n",
       "    </tr>\n",
       "    <tr>\n",
       "      <th>1891</th>\n",
       "      <td>0.0</td>\n",
       "      <td>0.0</td>\n",
       "      <td>0.0</td>\n",
       "      <td>1.0</td>\n",
       "      <td>0.0</td>\n",
       "      <td>NaN</td>\n",
       "      <td>NaN</td>\n",
       "      <td>NaN</td>\n",
       "      <td>NaN</td>\n",
       "      <td>NaN</td>\n",
       "      <td>...</td>\n",
       "      <td>0.0</td>\n",
       "      <td>0.0</td>\n",
       "      <td>0.0</td>\n",
       "      <td>0.0</td>\n",
       "      <td>0.0</td>\n",
       "      <td>0.0</td>\n",
       "      <td>0.0</td>\n",
       "      <td>0.0</td>\n",
       "      <td>0.0</td>\n",
       "      <td>0.0</td>\n",
       "    </tr>\n",
       "  </tbody>\n",
       "</table>\n",
       "<p>5 rows × 679 columns</p>\n",
       "</div>"
      ],
      "text/plain": [
       "      ProductID  vote  multipleReviews_reviewer  numReviews_product  \\\n",
       "1887        0.0   0.0                       0.0                 1.0   \n",
       "1888        0.0   0.0                       0.0                 1.0   \n",
       "1889        0.0   0.0                       0.0                 1.0   \n",
       "1890        0.0   0.0                       0.0                 1.0   \n",
       "1891        0.0   0.0                       0.0                 1.0   \n",
       "\n",
       "      nameProvided  r_1  r_10  r_100  r_1st  r_2  ...  s_work  s_work s_great  \\\n",
       "1887           0.0  NaN   NaN    NaN    NaN  NaN  ...     0.0             0.0   \n",
       "1888           0.0  NaN   NaN    NaN    NaN  NaN  ...     0.0             0.0   \n",
       "1889           0.0  NaN   NaN    NaN    NaN  NaN  ...     0.0             0.0   \n",
       "1890           0.0  NaN   NaN    NaN    NaN  NaN  ...     0.0             0.0   \n",
       "1891           0.0  NaN   NaN    NaN    NaN  NaN  ...     0.0             0.0   \n",
       "\n",
       "      s_work s_well  s_worked  s_working  s_worth  s_worth s_money  s_would  \\\n",
       "1887            0.0       0.0        0.0      0.0              0.0      0.0   \n",
       "1888            0.0       0.0        0.0      0.0              0.0      0.0   \n",
       "1889            0.0       0.0        0.0      0.0              0.0      0.0   \n",
       "1890            0.0       0.0        0.0      0.0              0.0      0.0   \n",
       "1891            0.0       0.0        0.0      0.0              0.0      0.0   \n",
       "\n",
       "      s_wow  s_yet  \n",
       "1887    0.0    0.0  \n",
       "1888    0.0    0.0  \n",
       "1889    0.0    0.0  \n",
       "1890    0.0    0.0  \n",
       "1891    0.0    0.0  \n",
       "\n",
       "[5 rows x 679 columns]"
      ]
     },
     "execution_count": 70,
     "metadata": {},
     "output_type": "execute_result"
    }
   ],
   "source": [
    "df_final.tail()"
   ]
  },
  {
   "cell_type": "code",
   "execution_count": 71,
   "metadata": {
    "id": "SaBCC06rB3Na"
   },
   "outputs": [],
   "source": [
    "from sklearn.decomposition import PCA"
   ]
  },
  {
   "cell_type": "code",
   "execution_count": 72,
   "metadata": {
    "id": "PbYyCi16sCSL"
   },
   "outputs": [],
   "source": [
    "df_final.fillna(999,inplace=True)\n"
   ]
  },
  {
   "cell_type": "code",
   "execution_count": 73,
   "metadata": {
    "id": "PIrAviKEBN8R"
   },
   "outputs": [],
   "source": [
    "pca = PCA(n_components=500)\n",
    "pcs = pca.fit_transform(df_final)"
   ]
  },
  {
   "cell_type": "code",
   "execution_count": 74,
   "metadata": {
    "colab": {
     "base_uri": "https://localhost:8080/",
     "height": 295
    },
    "id": "oYpjdL6MwrdT",
    "outputId": "a1f7e4c3-13fa-45cc-88f3-ea7bc28c7999"
   },
   "outputs": [
    {
     "data": {
      "image/png": "[encoded data removed]",
      "text/plain": [
       "<Figure size 720x288 with 1 Axes>"
      ]
     },
     "metadata": {
      "needs_background": "light"
     },
     "output_type": "display_data"
    }
   ],
   "source": [
    "plt.figure(figsize=(10,4))\n",
    "plt.plot(range(500), pca.explained_variance_ratio_[0:500])\n",
    "plt.xlabel('PCA features')\n",
    "plt.ylabel('explained variance %')\n",
    "plt.xticks(range(0,501,25))\n",
    "plt.title('Explained variance % of Principal Components')\n",
    "plt.show()"
   ]
  },
  {
   "cell_type": "code",
   "execution_count": 75,
   "metadata": {
    "colab": {
     "base_uri": "https://localhost:8080/",
     "height": 295
    },
    "id": "_v7A8lU7w5ab",
    "outputId": "0aae14c5-3591-40da-bf3a-a8b4dea047ea"
   },
   "outputs": [
    {
     "data": {
      "image/png": "[encoded data removed]",
      "text/plain": [
       "<Figure size 720x288 with 1 Axes>"
      ]
     },
     "metadata": {
      "needs_background": "light"
     },
     "output_type": "display_data"
    }
   ],
   "source": [
    "plt.figure(figsize=(10,4))\n",
    "plt.plot(range(500), pca.explained_variance_ratio_.cumsum()[0:500])\n",
    "plt.xlabel('PCA features')\n",
    "plt.ylabel('cumulative sum of explained variance %')\n",
    "plt.xticks(range(0,501,25))\n",
    "plt.title('Cumulative Sum of Explained variance % of Principal Components')\n",
    "plt.show()"
   ]
  },
  {
   "cell_type": "code",
   "execution_count": 76,
   "metadata": {
    "colab": {
     "base_uri": "https://localhost:8080/"
    },
    "id": "Czy-aWsHxGot",
    "outputId": "0532b21c-5f92-4d1e-f049-c62345e04984"
   },
   "outputs": [
    {
     "data": {
      "text/plain": [
       "0.9999999398517163"
      ]
     },
     "execution_count": 76,
     "metadata": {},
     "output_type": "execute_result"
    }
   ],
   "source": [
    "pca.explained_variance_ratio_.cumsum()[300]"
   ]
  },
  {
   "cell_type": "code",
   "execution_count": 77,
   "metadata": {
    "colab": {
     "base_uri": "https://localhost:8080/"
    },
    "id": "MLAqXB2bxIVO",
    "outputId": "2b0bd6f3-0344-49e1-f3db-a44701315712"
   },
   "outputs": [
    {
     "data": {
      "text/plain": [
       "0.9999999557447412"
      ]
     },
     "execution_count": 77,
     "metadata": {},
     "output_type": "execute_result"
    }
   ],
   "source": [
    "pca.explained_variance_ratio_.cumsum()[350]"
   ]
  },
  {
   "cell_type": "code",
   "execution_count": 78,
   "metadata": {
    "colab": {
     "base_uri": "https://localhost:8080/"
    },
    "id": "sT0QeySnxMdB",
    "outputId": "0f563694-15f5-4414-8dba-f052bcc9fc9b"
   },
   "outputs": [
    {
     "data": {
      "text/plain": [
       "0.9999999684107685"
      ]
     },
     "execution_count": 78,
     "metadata": {},
     "output_type": "execute_result"
    }
   ],
   "source": [
    "pca.explained_variance_ratio_.cumsum()[400]"
   ]
  },
  {
   "cell_type": "code",
   "execution_count": 79,
   "metadata": {
    "id": "QPhuI6GnxTVZ"
   },
   "outputs": [],
   "source": [
    "PCA_components = pd.DataFrame(pcs)"
   ]
  },
  {
   "cell_type": "code",
   "execution_count": 80,
   "metadata": {
    "colab": {
     "base_uri": "https://localhost:8080/",
     "height": 280
    },
    "id": "xmX2Sl_TxWUW",
    "outputId": "1d11df3e-4f07-4a0f-a9c3-2c5babdacac8"
   },
   "outputs": [
    {
     "data": {
      "image/png": "[encoded data removed]",
      "text/plain": [
       "<Figure size 432x288 with 1 Axes>"
      ]
     },
     "metadata": {
      "needs_background": "light"
     },
     "output_type": "display_data"
    }
   ],
   "source": [
    "plt.figure()\n",
    "plt.scatter(PCA_components[0],PCA_components[1], alpha=.05, color='blue')\n",
    "plt.xlabel('PCA 0')\n",
    "plt.ylabel('PCA 1')\n",
    "plt.show()"
   ]
  },
  {
   "cell_type": "markdown",
   "metadata": {
    "id": "LM671Kazxe3j"
   },
   "source": [
    "KMeans Clustering\n"
   ]
  },
  {
   "cell_type": "code",
   "execution_count": 81,
   "metadata": {
    "id": "P-4p-qSLxlmm"
   },
   "outputs": [],
   "source": [
    "from sklearn.cluster import KMeans"
   ]
  },
  {
   "cell_type": "code",
   "execution_count": 82,
   "metadata": {
    "colab": {
     "base_uri": "https://localhost:8080/"
    },
    "id": "ECzruqUvxpQd",
    "outputId": "33028e81-84ee-41d5-bd31-b89ed2ed2003"
   },
   "outputs": [
    {
     "name": "stdout",
     "output_type": "stream",
     "text": [
      "Initialization complete\n",
      "Iteration 0, inertia 4942.0269884118115\n",
      "Iteration 1, inertia 3084.8669350438995\n",
      "Converged at iteration 1: center shift 0.2847038628035902 within tolerance 1.2601745588292477.\n",
      "Initialization complete\n",
      "Iteration 0, inertia 5047.8456907682075\n",
      "Iteration 1, inertia 3014.7930497810826\n",
      "Converged at iteration 1: center shift 0.22064531605923327 within tolerance 1.2601745588292477.\n",
      "Initialization complete\n",
      "Iteration 0, inertia 5568.950747326094\n",
      "Iteration 1, inertia 3066.877410864492\n",
      "Converged at iteration 1: center shift 0.19449087211922744 within tolerance 1.2601745588292477.\n",
      "Initialization complete\n",
      "Iteration 0, inertia 5083.097540738391\n",
      "Iteration 1, inertia 3082.1765523802146\n",
      "Converged at iteration 1: center shift 0.28109745006864756 within tolerance 1.2601745588292477.\n",
      "Initialization complete\n",
      "Iteration 0, inertia 5070.541958846016\n",
      "Iteration 1, inertia 3126.285005067376\n",
      "Converged at iteration 1: center shift 0.44226898397226133 within tolerance 1.2601745588292477.\n",
      "Initialization complete\n",
      "Iteration 0, inertia 4381.704704529045\n",
      "Iteration 1, inertia 3008.7648850888586\n",
      "Converged at iteration 1: center shift 0.5550064591627973 within tolerance 1.2601745588292477.\n",
      "Initialization complete\n",
      "Iteration 0, inertia 5284.606804568977\n",
      "Iteration 1, inertia 3203.7355816132094\n",
      "Converged at iteration 1: center shift 0.686249985100974 within tolerance 1.2601745588292477.\n",
      "Initialization complete\n",
      "Iteration 0, inertia 4834.67756349469\n",
      "Iteration 1, inertia 3065.7218585513897\n",
      "Converged at iteration 1: center shift 0.16485595027977012 within tolerance 1.2601745588292477.\n",
      "Initialization complete\n",
      "Iteration 0, inertia 4605.743083765571\n",
      "Iteration 1, inertia 3025.1806210519717\n",
      "Converged at iteration 1: center shift 0.05386486029467347 within tolerance 1.2601745588292477.\n",
      "Initialization complete\n",
      "Iteration 0, inertia 4743.943101933458\n",
      "Iteration 1, inertia 3020.322250239257\n",
      "Converged at iteration 1: center shift 0.15790715419854226 within tolerance 1.2601745588292477.\n",
      "Initialization complete\n",
      "Iteration 0, inertia 5095.356116925401\n",
      "Iteration 1, inertia 3044.0251752899712\n",
      "Converged at iteration 1: center shift 0.18619061422915348 within tolerance 1.2601745588292477.\n",
      "Initialization complete\n",
      "Iteration 0, inertia 5549.913636364314\n",
      "Iteration 1, inertia 3040.3811652522436\n",
      "Converged at iteration 1: center shift 0.27718986627421327 within tolerance 1.2601745588292477.\n",
      "Initialization complete\n",
      "Iteration 0, inertia 5083.875394378551\n",
      "Iteration 1, inertia 3127.4652704145697\n",
      "Converged at iteration 1: center shift 0.5540025321004113 within tolerance 1.2601745588292477.\n",
      "Initialization complete\n",
      "Iteration 0, inertia 4932.385935237202\n",
      "Iteration 1, inertia 3148.570261122723\n",
      "Converged at iteration 1: center shift 0.3194836366798197 within tolerance 1.2601745588292477.\n",
      "Initialization complete\n",
      "Iteration 0, inertia 5466.150519162875\n",
      "Iteration 1, inertia 3002.4588295889594\n",
      "Converged at iteration 1: center shift 0.2436858299315957 within tolerance 1.2601745588292477.\n",
      "Initialization complete\n",
      "Iteration 0, inertia 4745.518771855996\n",
      "Iteration 1, inertia 3023.5865576420415\n",
      "Converged at iteration 1: center shift 0.5743972177993615 within tolerance 1.2601745588292477.\n",
      "Initialization complete\n",
      "Iteration 0, inertia 4945.179662113709\n",
      "Iteration 1, inertia 3023.7968235090816\n",
      "Converged at iteration 1: center shift 0.2798233369485098 within tolerance 1.2601745588292477.\n",
      "Initialization complete\n",
      "Iteration 0, inertia 4594.821072363725\n",
      "Iteration 1, inertia 2961.439623067723\n",
      "Converged at iteration 1: center shift 0.08954412151278436 within tolerance 1.2601745588292477.\n",
      "Initialization complete\n",
      "Iteration 0, inertia 4895.063382633841\n",
      "Iteration 1, inertia 3011.8047009900743\n",
      "Converged at iteration 1: center shift 0.29734004484999643 within tolerance 1.2601745588292477.\n",
      "Initialization complete\n",
      "Iteration 0, inertia 4838.935967226493\n",
      "Iteration 1, inertia 3074.099248769345\n",
      "Converged at iteration 1: center shift 0.4213869692192932 within tolerance 1.2601745588292477.\n",
      "Initialization complete\n",
      "Iteration 0, inertia 4735.286148832433\n",
      "Iteration 1, inertia 3045.2782801974963\n",
      "Converged at iteration 1: center shift 0.38172742878075483 within tolerance 1.2601745588292477.\n",
      "Initialization complete\n",
      "Iteration 0, inertia 4431.456025665151\n",
      "Iteration 1, inertia 2919.951344634672\n",
      "Converged at iteration 1: center shift 0.35101064969645623 within tolerance 1.2601745588292477.\n",
      "Initialization complete\n",
      "Iteration 0, inertia 5426.342511779037\n",
      "Iteration 1, inertia 2955.686393742069\n",
      "Converged at iteration 1: center shift 0.31697686046268786 within tolerance 1.2601745588292477.\n",
      "Initialization complete\n",
      "Iteration 0, inertia 4475.832391810498\n",
      "Iteration 1, inertia 2953.69778490886\n",
      "Converged at iteration 1: center shift 0.17483704902874916 within tolerance 1.2601745588292477.\n",
      "Initialization complete\n",
      "Iteration 0, inertia 4891.070770975685\n",
      "Iteration 1, inertia 3010.9888014515773\n",
      "Converged at iteration 1: center shift 0.4842147738264571 within tolerance 1.2601745588292477.\n",
      "Initialization complete\n",
      "Iteration 0, inertia 3957.8002424794004\n",
      "Iteration 1, inertia 3239.219808386693\n",
      "Converged at iteration 1: center shift 1.0525048986326082 within tolerance 1.2601745588292477.\n",
      "Initialization complete\n",
      "Iteration 0, inertia 5509.618962765976\n",
      "Iteration 1, inertia 2996.204561520646\n",
      "Converged at iteration 1: center shift 0.520509866264881 within tolerance 1.2601745588292477.\n",
      "Initialization complete\n",
      "Iteration 0, inertia 4995.611362846743\n",
      "Iteration 1, inertia 3014.2704427797958\n",
      "Converged at iteration 1: center shift 0.2605366564427645 within tolerance 1.2601745588292477.\n",
      "Initialization complete\n",
      "Iteration 0, inertia 5047.156630306114\n",
      "Iteration 1, inertia 3101.3322958921563\n",
      "Converged at iteration 1: center shift 0.47346932700410704 within tolerance 1.2601745588292477.\n",
      "Initialization complete\n",
      "Iteration 0, inertia 4393.19854855186\n",
      "Iteration 1, inertia 2962.5587679229347\n",
      "Converged at iteration 1: center shift 0.3915112707529257 within tolerance 1.2601745588292477.\n",
      "Initialization complete\n",
      "Iteration 0, inertia 4506.294264156944\n",
      "Iteration 1, inertia 2946.776861216999\n",
      "Converged at iteration 1: center shift 0.32445157594452456 within tolerance 1.2601745588292477.\n",
      "Initialization complete\n",
      "Iteration 0, inertia 4335.887584365888\n",
      "Iteration 1, inertia 2918.2784588510626\n",
      "Converged at iteration 1: center shift 0.19609731836869626 within tolerance 1.2601745588292477.\n",
      "Initialization complete\n",
      "Iteration 0, inertia 4432.640914853674\n",
      "Iteration 1, inertia 2949.8903888974446\n",
      "Converged at iteration 1: center shift 0.3117169858873795 within tolerance 1.2601745588292477.\n",
      "Initialization complete\n",
      "Iteration 0, inertia 4845.318492761576\n",
      "Iteration 1, inertia 2949.1215158417085\n",
      "Converged at iteration 1: center shift 0.2686753051238633 within tolerance 1.2601745588292477.\n",
      "Initialization complete\n",
      "Iteration 0, inertia 4904.995082350255\n",
      "Iteration 1, inertia 2981.804619028128\n",
      "Converged at iteration 1: center shift 0.2983869855911805 within tolerance 1.2601745588292477.\n",
      "Initialization complete\n",
      "Iteration 0, inertia 4713.071841112878\n",
      "Iteration 1, inertia 2955.030110849692\n",
      "Converged at iteration 1: center shift 0.44103026227103165 within tolerance 1.2601745588292477.\n",
      "Initialization complete\n",
      "Iteration 0, inertia 3914.272296830203\n",
      "Iteration 1, inertia 3183.369282949861\n",
      "Iteration 2, inertia 2942.2436394835404\n",
      "Converged at iteration 2: center shift 0.06484474799388981 within tolerance 1.2601745588292477.\n",
      "Initialization complete\n",
      "Iteration 0, inertia 4521.948713230014\n",
      "Iteration 1, inertia 2944.1854962850484\n",
      "Converged at iteration 1: center shift 0.34623986964913106 within tolerance 1.2601745588292477.\n",
      "Initialization complete\n",
      "Iteration 0, inertia 4696.176166348357\n",
      "Iteration 1, inertia 3025.606479027689\n",
      "Converged at iteration 1: center shift 0.48649000310767787 within tolerance 1.2601745588292477.\n",
      "Initialization complete\n",
      "Iteration 0, inertia 4310.3487856881875\n",
      "Iteration 1, inertia 2975.0697930463916\n",
      "Converged at iteration 1: center shift 0.6960889294891835 within tolerance 1.2601745588292477.\n",
      "Initialization complete\n",
      "Iteration 0, inertia 4515.915533418483\n",
      "Iteration 1, inertia 2963.826929016446\n",
      "Converged at iteration 1: center shift 0.6745115806775086 within tolerance 1.2601745588292477.\n",
      "Initialization complete\n",
      "Iteration 0, inertia 5294.877532345556\n",
      "Iteration 1, inertia 2908.114848683249\n",
      "Converged at iteration 1: center shift 0.47365764096948226 within tolerance 1.2601745588292477.\n",
      "Initialization complete\n",
      "Iteration 0, inertia 5399.224463157347\n",
      "Iteration 1, inertia 2981.169850334966\n",
      "Converged at iteration 1: center shift 0.5172115267689879 within tolerance 1.2601745588292477.\n",
      "Initialization complete\n",
      "Iteration 0, inertia 4826.51885247634\n",
      "Iteration 1, inertia 3036.9354094597106\n",
      "Converged at iteration 1: center shift 0.6925920978857945 within tolerance 1.2601745588292477.\n",
      "Initialization complete\n",
      "Iteration 0, inertia 4255.253959307608\n",
      "Iteration 1, inertia 2884.733236723268\n",
      "Converged at iteration 1: center shift 0.25029336739184455 within tolerance 1.2601745588292477.\n",
      "Initialization complete\n",
      "Iteration 0, inertia 4461.358334606588\n",
      "Iteration 1, inertia 2975.5502807393373\n",
      "Converged at iteration 1: center shift 0.5790541413351699 within tolerance 1.2601745588292477.\n",
      "Initialization complete\n",
      "Iteration 0, inertia 4380.58184478682\n",
      "Iteration 1, inertia 2940.402554303377\n",
      "Converged at iteration 1: center shift 0.41674802216269385 within tolerance 1.2601745588292477.\n",
      "Initialization complete\n",
      "Iteration 0, inertia 4392.042010736693\n",
      "Iteration 1, inertia 2928.0719304248887\n",
      "Converged at iteration 1: center shift 0.2025925005593387 within tolerance 1.2601745588292477.\n",
      "Initialization complete\n",
      "Iteration 0, inertia 4698.621040295113\n",
      "Iteration 1, inertia 3037.714172334965\n",
      "Converged at iteration 1: center shift 0.46282572865134153 within tolerance 1.2601745588292477.\n",
      "Initialization complete\n",
      "Iteration 0, inertia 4646.1068742181515\n",
      "Iteration 1, inertia 2988.566286426482\n",
      "Converged at iteration 1: center shift 0.44958222855638896 within tolerance 1.2601745588292477.\n",
      "Initialization complete\n",
      "Iteration 0, inertia 3896.6439880502076\n",
      "Iteration 1, inertia 3075.0684089093766\n",
      "Converged at iteration 1: center shift 1.210590354624759 within tolerance 1.2601745588292477.\n",
      "Initialization complete\n",
      "Iteration 0, inertia 4683.708734339223\n",
      "Iteration 1, inertia 3026.8270896741014\n",
      "Converged at iteration 1: center shift 0.8067733807893763 within tolerance 1.2601745588292477.\n",
      "Initialization complete\n",
      "Iteration 0, inertia 4491.0684645571755\n",
      "Iteration 1, inertia 2900.9040053453136\n",
      "Converged at iteration 1: center shift 0.5201143126280173 within tolerance 1.2601745588292477.\n",
      "Initialization complete\n",
      "Iteration 0, inertia 4763.042680641351\n",
      "Iteration 1, inertia 2963.475131753812\n",
      "Converged at iteration 1: center shift 0.45428902355759837 within tolerance 1.2601745588292477.\n",
      "Initialization complete\n",
      "Iteration 0, inertia 4340.863608243041\n",
      "Iteration 1, inertia 2899.1874549360855\n",
      "Converged at iteration 1: center shift 0.601502896575597 within tolerance 1.2601745588292477.\n",
      "Initialization complete\n",
      "Iteration 0, inertia 4779.553454569887\n",
      "Iteration 1, inertia 3014.4342944406826\n",
      "Converged at iteration 1: center shift 0.44003115671192483 within tolerance 1.2601745588292477.\n",
      "Initialization complete\n",
      "Iteration 0, inertia 4465.666382706406\n",
      "Iteration 1, inertia 2960.9956740017446\n",
      "Converged at iteration 1: center shift 0.3932480919868707 within tolerance 1.2601745588292477.\n",
      "Initialization complete\n",
      "Iteration 0, inertia 4159.854670694264\n",
      "Iteration 1, inertia 2888.850308091259\n",
      "Converged at iteration 1: center shift 0.6144183408922785 within tolerance 1.2601745588292477.\n",
      "Initialization complete\n",
      "Iteration 0, inertia 4594.036393847973\n",
      "Iteration 1, inertia 2936.0627129343115\n",
      "Converged at iteration 1: center shift 0.35787730108210664 within tolerance 1.2601745588292477.\n",
      "Initialization complete\n",
      "Iteration 0, inertia 4387.247553327862\n",
      "Iteration 1, inertia 2925.232890713575\n",
      "Converged at iteration 1: center shift 0.8318163752346988 within tolerance 1.2601745588292477.\n",
      "Initialization complete\n",
      "Iteration 0, inertia 5139.321740411663\n",
      "Iteration 1, inertia 2921.144359326273\n",
      "Converged at iteration 1: center shift 0.5243248455806303 within tolerance 1.2601745588292477.\n",
      "Initialization complete\n",
      "Iteration 0, inertia 4659.685302378214\n",
      "Iteration 1, inertia 2890.5713703020997\n",
      "Converged at iteration 1: center shift 0.4614862457438971 within tolerance 1.2601745588292477.\n",
      "Initialization complete\n",
      "Iteration 0, inertia 4412.443027394152\n",
      "Iteration 1, inertia 2911.2898450134103\n",
      "Converged at iteration 1: center shift 0.44307684615928655 within tolerance 1.2601745588292477.\n",
      "Initialization complete\n",
      "Iteration 0, inertia 4791.097566348611\n",
      "Iteration 1, inertia 2904.8693089211524\n",
      "Converged at iteration 1: center shift 0.33613911535219504 within tolerance 1.2601745588292477.\n",
      "Initialization complete\n",
      "Iteration 0, inertia 4753.505429928956\n",
      "Iteration 1, inertia 2874.8535371138605\n",
      "Converged at iteration 1: center shift 0.2521619873883742 within tolerance 1.2601745588292477.\n",
      "Initialization complete\n",
      "Iteration 0, inertia 4731.49298134765\n",
      "Iteration 1, inertia 2918.4668851712654\n",
      "Converged at iteration 1: center shift 0.4105084607961022 within tolerance 1.2601745588292477.\n",
      "Initialization complete\n",
      "Iteration 0, inertia 3834.35845401774\n",
      "Iteration 1, inertia 3163.9558294536596\n",
      "Iteration 2, inertia 3052.609888704083\n",
      "Converged at iteration 2: center shift 0.4480938266910876 within tolerance 1.2601745588292477.\n",
      "Initialization complete\n",
      "Iteration 0, inertia 4391.790358535153\n",
      "Iteration 1, inertia 2855.3194642944486\n",
      "Converged at iteration 1: center shift 0.22354581848148722 within tolerance 1.2601745588292477.\n",
      "Initialization complete\n",
      "Iteration 0, inertia 4524.098612677486\n",
      "Iteration 1, inertia 2882.221384046409\n",
      "Converged at iteration 1: center shift 0.5086710935762361 within tolerance 1.2601745588292477.\n",
      "Initialization complete\n",
      "Iteration 0, inertia 4655.940013005975\n",
      "Iteration 1, inertia 2897.3752147452665\n",
      "Converged at iteration 1: center shift 0.5180106234387906 within tolerance 1.2601745588292477.\n",
      "Initialization complete\n",
      "Iteration 0, inertia 4539.622743275572\n",
      "Iteration 1, inertia 3042.809374187274\n",
      "Converged at iteration 1: center shift 0.6293179215535247 within tolerance 1.2601745588292477.\n",
      "Initialization complete\n",
      "Iteration 0, inertia 4255.70361136222\n",
      "Iteration 1, inertia 2825.2598077470443\n",
      "Converged at iteration 1: center shift 0.2905531920385206 within tolerance 1.2601745588292477.\n",
      "Initialization complete\n",
      "Iteration 0, inertia 4339.898266117504\n",
      "Iteration 1, inertia 2819.019863091508\n",
      "Converged at iteration 1: center shift 0.3849304768688961 within tolerance 1.2601745588292477.\n",
      "Initialization complete\n",
      "Iteration 0, inertia 4340.610344673866\n",
      "Iteration 1, inertia 2870.9066849107476\n",
      "Converged at iteration 1: center shift 0.21371745834410596 within tolerance 1.2601745588292477.\n",
      "Initialization complete\n",
      "Iteration 0, inertia 4324.890933159786\n",
      "Iteration 1, inertia 2852.6996868368756\n",
      "Converged at iteration 1: center shift 0.33048095264236094 within tolerance 1.2601745588292477.\n",
      "Initialization complete\n",
      "Iteration 0, inertia 4486.358003870024\n",
      "Iteration 1, inertia 2848.359429352439\n",
      "Converged at iteration 1: center shift 0.41395546787047266 within tolerance 1.2601745588292477.\n",
      "Initialization complete\n",
      "Iteration 0, inertia 4431.476085627094\n",
      "Iteration 1, inertia 2896.127338961041\n",
      "Converged at iteration 1: center shift 0.3498485412672504 within tolerance 1.2601745588292477.\n",
      "Initialization complete\n",
      "Iteration 0, inertia 4493.289127596932\n",
      "Iteration 1, inertia 2893.5231791969563\n",
      "Converged at iteration 1: center shift 0.5916568787769818 within tolerance 1.2601745588292477.\n",
      "Initialization complete\n",
      "Iteration 0, inertia 5200.245603116994\n",
      "Iteration 1, inertia 2917.7478876066048\n",
      "Converged at iteration 1: center shift 0.7556072978053655 within tolerance 1.2601745588292477.\n",
      "Initialization complete\n",
      "Iteration 0, inertia 4205.978307703791\n",
      "Iteration 1, inertia 2899.369466974107\n",
      "Converged at iteration 1: center shift 0.31234397466977293 within tolerance 1.2601745588292477.\n",
      "Initialization complete\n",
      "Iteration 0, inertia 4360.995259850383\n",
      "Iteration 1, inertia 2868.1794020084853\n",
      "Converged at iteration 1: center shift 0.43297531756844176 within tolerance 1.2601745588292477.\n",
      "Initialization complete\n",
      "Iteration 0, inertia 4259.699958704484\n",
      "Iteration 1, inertia 2857.8984490212893\n",
      "Converged at iteration 1: center shift 1.0414137564762946 within tolerance 1.2601745588292477.\n",
      "Initialization complete\n",
      "Iteration 0, inertia 4196.561062203678\n",
      "Iteration 1, inertia 2829.138591343294\n",
      "Converged at iteration 1: center shift 0.29250267593800783 within tolerance 1.2601745588292477.\n",
      "Initialization complete\n",
      "Iteration 0, inertia 4239.401727429601\n",
      "Iteration 1, inertia 2848.4530355826855\n",
      "Converged at iteration 1: center shift 0.5709419039883195 within tolerance 1.2601745588292477.\n",
      "Initialization complete\n",
      "Iteration 0, inertia 4360.249541617873\n",
      "Iteration 1, inertia 2851.2224017176545\n",
      "Converged at iteration 1: center shift 0.48014350964741365 within tolerance 1.2601745588292477.\n",
      "Initialization complete\n",
      "Iteration 0, inertia 4402.723644338987\n",
      "Iteration 1, inertia 2887.8562215813818\n",
      "Converged at iteration 1: center shift 0.4232387092439097 within tolerance 1.2601745588292477.\n",
      "Initialization complete\n",
      "Iteration 0, inertia 4723.878286097846\n",
      "Iteration 1, inertia 2915.0608907998762\n",
      "Converged at iteration 1: center shift 0.7251838080451082 within tolerance 1.2601745588292477.\n",
      "Initialization complete\n",
      "Iteration 0, inertia 4329.840685369273\n",
      "Iteration 1, inertia 2866.392600817825\n",
      "Converged at iteration 1: center shift 0.6252330443721179 within tolerance 1.2601745588292477.\n",
      "Initialization complete\n",
      "Iteration 0, inertia 4324.669466326533\n",
      "Iteration 1, inertia 2827.630670397521\n",
      "Converged at iteration 1: center shift 0.8278727197220084 within tolerance 1.2601745588292477.\n",
      "Initialization complete\n",
      "Iteration 0, inertia 4327.414504953073\n",
      "Iteration 1, inertia 2806.052035945086\n",
      "Converged at iteration 1: center shift 0.4055818712721824 within tolerance 1.2601745588292477.\n",
      "Initialization complete\n",
      "Iteration 0, inertia 4246.563626176229\n",
      "Iteration 1, inertia 2828.5963375605425\n",
      "Converged at iteration 1: center shift 0.9582889201501111 within tolerance 1.2601745588292477.\n",
      "Initialization complete\n",
      "Iteration 0, inertia 4417.187109989185\n",
      "Iteration 1, inertia 2856.9284709781946\n",
      "Converged at iteration 1: center shift 0.37501243833239045 within tolerance 1.2601745588292477.\n",
      "Initialization complete\n",
      "Iteration 0, inertia 4104.673352329728\n",
      "Iteration 1, inertia 2834.919339948\n",
      "Converged at iteration 1: center shift 0.6590040570218929 within tolerance 1.2601745588292477.\n",
      "Initialization complete\n",
      "Iteration 0, inertia 4348.1571272256215\n",
      "Iteration 1, inertia 2828.641180594378\n",
      "Converged at iteration 1: center shift 0.44809232779401387 within tolerance 1.2601745588292477.\n",
      "Initialization complete\n",
      "Iteration 0, inertia 4877.619882854872\n",
      "Iteration 1, inertia 2943.574650468586\n",
      "Converged at iteration 1: center shift 0.6754920504726522 within tolerance 1.2601745588292477.\n",
      "Initialization complete\n",
      "Iteration 0, inertia 4494.628430663062\n",
      "Iteration 1, inertia 2887.890398983371\n",
      "Converged at iteration 1: center shift 0.6379097886553619 within tolerance 1.2601745588292477.\n",
      "Initialization complete\n",
      "Iteration 0, inertia 4742.2757419336795\n",
      "Iteration 1, inertia 2881.3412313259864\n",
      "Converged at iteration 1: center shift 0.7425961505696148 within tolerance 1.2601745588292477.\n",
      "Initialization complete\n",
      "Iteration 0, inertia 4076.334636727131\n",
      "Iteration 1, inertia 2805.984244013645\n",
      "Converged at iteration 1: center shift 0.6134323516775162 within tolerance 1.2601745588292477.\n",
      "Initialization complete\n",
      "Iteration 0, inertia 4211.806805698847\n",
      "Iteration 1, inertia 2788.096225407127\n",
      "Converged at iteration 1: center shift 0.2550944469238854 within tolerance 1.2601745588292477.\n",
      "Initialization complete\n",
      "Iteration 0, inertia 4266.234127211331\n",
      "Iteration 1, inertia 2867.3353257584463\n",
      "Converged at iteration 1: center shift 1.0593511931791844 within tolerance 1.2601745588292477.\n",
      "Initialization complete\n",
      "Iteration 0, inertia 4292.178452961322\n",
      "Iteration 1, inertia 2823.0381063818213\n",
      "Converged at iteration 1: center shift 0.6060638912080347 within tolerance 1.2601745588292477.\n",
      "Initialization complete\n",
      "Iteration 0, inertia 4203.825835058847\n",
      "Iteration 1, inertia 2850.861448491675\n",
      "Converged at iteration 1: center shift 0.7558582378232932 within tolerance 1.2601745588292477.\n",
      "Initialization complete\n",
      "Iteration 0, inertia 4198.35237045115\n",
      "Iteration 1, inertia 2763.243398304982\n",
      "Converged at iteration 1: center shift 0.38274507436851857 within tolerance 1.2601745588292477.\n",
      "Initialization complete\n",
      "Iteration 0, inertia 4367.863179789163\n",
      "Iteration 1, inertia 2815.798486321347\n",
      "Converged at iteration 1: center shift 0.3738526836746113 within tolerance 1.2601745588292477.\n",
      "Initialization complete\n",
      "Iteration 0, inertia 4196.059060014465\n",
      "Iteration 1, inertia 2863.0591534551886\n",
      "Converged at iteration 1: center shift 0.8322265294089604 within tolerance 1.2601745588292477.\n",
      "Initialization complete\n",
      "Iteration 0, inertia 4168.176407464414\n",
      "Iteration 1, inertia 2881.4624372158487\n",
      "Converged at iteration 1: center shift 1.1435695655024773 within tolerance 1.2601745588292477.\n",
      "Initialization complete\n",
      "Iteration 0, inertia 4414.935642994387\n",
      "Iteration 1, inertia 2876.3772310291056\n",
      "Converged at iteration 1: center shift 0.4595068318403658 within tolerance 1.2601745588292477.\n",
      "Initialization complete\n",
      "Iteration 0, inertia 4254.884656592456\n",
      "Iteration 1, inertia 2830.961174553822\n",
      "Converged at iteration 1: center shift 0.8891419305796732 within tolerance 1.2601745588292477.\n",
      "Initialization complete\n",
      "Iteration 0, inertia 4398.7705025757705\n",
      "Iteration 1, inertia 2783.9972168058425\n",
      "Converged at iteration 1: center shift 0.6522512227879012 within tolerance 1.2601745588292477.\n",
      "Initialization complete\n",
      "Iteration 0, inertia 4230.214893446858\n",
      "Iteration 1, inertia 2874.518490932645\n",
      "Converged at iteration 1: center shift 0.4223028244913569 within tolerance 1.2601745588292477.\n",
      "Initialization complete\n",
      "Iteration 0, inertia 4319.992602255301\n",
      "Iteration 1, inertia 2823.4508817659867\n",
      "Converged at iteration 1: center shift 0.5773270876906333 within tolerance 1.2601745588292477.\n",
      "Initialization complete\n",
      "Iteration 0, inertia 4254.603445781139\n",
      "Iteration 1, inertia 2773.603384112557\n",
      "Converged at iteration 1: center shift 0.5297224018877656 within tolerance 1.2601745588292477.\n",
      "Initialization complete\n",
      "Iteration 0, inertia 4228.465569579278\n",
      "Iteration 1, inertia 2781.162084876441\n",
      "Converged at iteration 1: center shift 0.5228636308796797 within tolerance 1.2601745588292477.\n",
      "Initialization complete\n",
      "Iteration 0, inertia 4228.679874375727\n",
      "Iteration 1, inertia 2833.4683121570047\n",
      "Converged at iteration 1: center shift 0.9313534157733183 within tolerance 1.2601745588292477.\n",
      "Initialization complete\n",
      "Iteration 0, inertia 4204.106935278289\n",
      "Iteration 1, inertia 2834.42339335722\n",
      "Converged at iteration 1: center shift 0.5416787061604087 within tolerance 1.2601745588292477.\n",
      "Initialization complete\n",
      "Iteration 0, inertia 4156.184030654865\n",
      "Iteration 1, inertia 2823.383661737174\n",
      "Converged at iteration 1: center shift 0.7179228449254016 within tolerance 1.2601745588292477.\n",
      "Initialization complete\n",
      "Iteration 0, inertia 4242.543128930166\n",
      "Iteration 1, inertia 2822.9709545955393\n",
      "Converged at iteration 1: center shift 0.6320171550893896 within tolerance 1.2601745588292477.\n",
      "Initialization complete\n",
      "Iteration 0, inertia 5042.046769510913\n",
      "Iteration 1, inertia 2886.3116425030016\n",
      "Converged at iteration 1: center shift 0.8448249939005836 within tolerance 1.2601745588292477.\n",
      "Initialization complete\n",
      "Iteration 0, inertia 4270.700701693825\n",
      "Iteration 1, inertia 2869.334719914275\n",
      "Converged at iteration 1: center shift 0.4220385107539165 within tolerance 1.2601745588292477.\n",
      "Initialization complete\n",
      "Iteration 0, inertia 4101.617835153464\n",
      "Iteration 1, inertia 2771.2929683003504\n",
      "Converged at iteration 1: center shift 0.29863233282214485 within tolerance 1.2601745588292477.\n",
      "Initialization complete\n",
      "Iteration 0, inertia 4391.254587926513\n",
      "Iteration 1, inertia 2731.6765015871297\n",
      "Converged at iteration 1: center shift 0.5664254803144333 within tolerance 1.2601745588292477.\n",
      "Initialization complete\n",
      "Iteration 0, inertia 4361.687208180945\n",
      "Iteration 1, inertia 2805.4043308682876\n",
      "Converged at iteration 1: center shift 0.948477141934102 within tolerance 1.2601745588292477.\n",
      "Initialization complete\n",
      "Iteration 0, inertia 4017.506489061129\n",
      "Iteration 1, inertia 2787.2765103007373\n",
      "Converged at iteration 1: center shift 0.6185972310900766 within tolerance 1.2601745588292477.\n",
      "Initialization complete\n",
      "Iteration 0, inertia 4265.257936466327\n",
      "Iteration 1, inertia 2765.0605697014994\n",
      "Converged at iteration 1: center shift 0.6637766549076664 within tolerance 1.2601745588292477.\n",
      "Initialization complete\n",
      "Iteration 0, inertia 4255.815808367946\n",
      "Iteration 1, inertia 2739.0618303769825\n",
      "Converged at iteration 1: center shift 0.6107323192580427 within tolerance 1.2601745588292477.\n",
      "Initialization complete\n",
      "Iteration 0, inertia 4054.6775666136346\n",
      "Iteration 1, inertia 2784.584769791468\n",
      "Converged at iteration 1: center shift 0.5901792187448576 within tolerance 1.2601745588292477.\n",
      "Initialization complete\n",
      "Iteration 0, inertia 4161.884668529172\n",
      "Iteration 1, inertia 2760.6794978441085\n",
      "Converged at iteration 1: center shift 0.44313825786975747 within tolerance 1.2601745588292477.\n",
      "Initialization complete\n",
      "Iteration 0, inertia 4114.452708620164\n",
      "Iteration 1, inertia 2818.3166688570645\n",
      "Converged at iteration 1: center shift 0.6924633470954498 within tolerance 1.2601745588292477.\n",
      "Initialization complete\n",
      "Iteration 0, inertia 3697.3864628807914\n",
      "Iteration 1, inertia 2953.12038236839\n",
      "Converged at iteration 1: center shift 0.9896239951234598 within tolerance 1.2601745588292477.\n",
      "Initialization complete\n",
      "Iteration 0, inertia 4389.248397646684\n",
      "Iteration 1, inertia 2823.357659603209\n",
      "Converged at iteration 1: center shift 0.9175834861060902 within tolerance 1.2601745588292477.\n",
      "Initialization complete\n",
      "Iteration 0, inertia 4370.674750745182\n",
      "Iteration 1, inertia 2801.1699451574714\n",
      "Iteration 2, inertia 2732.3088472469008\n",
      "Converged at iteration 2: center shift 0.3438939498806147 within tolerance 1.2601745588292477.\n",
      "Initialization complete\n",
      "Iteration 0, inertia 4342.447941115573\n",
      "Iteration 1, inertia 2781.865994885968\n",
      "Converged at iteration 1: center shift 0.6535215753857339 within tolerance 1.2601745588292477.\n",
      "Initialization complete\n",
      "Iteration 0, inertia 4126.843934293487\n",
      "Iteration 1, inertia 2756.343188465453\n",
      "Converged at iteration 1: center shift 0.5161131374564607 within tolerance 1.2601745588292477.\n",
      "Initialization complete\n",
      "Iteration 0, inertia 4195.3752875792925\n",
      "Iteration 1, inertia 2806.857982488167\n",
      "Converged at iteration 1: center shift 0.6848621477422454 within tolerance 1.2601745588292477.\n",
      "Initialization complete\n",
      "Iteration 0, inertia 4262.322386666668\n",
      "Iteration 1, inertia 2743.838903993494\n",
      "Converged at iteration 1: center shift 0.6452888579682626 within tolerance 1.2601745588292477.\n",
      "Initialization complete\n",
      "Iteration 0, inertia 4110.047538610223\n",
      "Iteration 1, inertia 2760.8955903907986\n",
      "Converged at iteration 1: center shift 0.2813363128762799 within tolerance 1.2601745588292477.\n",
      "Initialization complete\n",
      "Iteration 0, inertia 4203.775536883026\n",
      "Iteration 1, inertia 2831.8193792148986\n",
      "Converged at iteration 1: center shift 0.7240649632730811 within tolerance 1.2601745588292477.\n",
      "Initialization complete\n",
      "Iteration 0, inertia 4122.965578308877\n",
      "Iteration 1, inertia 2756.0752468325695\n",
      "Converged at iteration 1: center shift 0.41156082045277165 within tolerance 1.2601745588292477.\n",
      "Initialization complete\n",
      "Iteration 0, inertia 4417.967940173315\n",
      "Iteration 1, inertia 2740.567127992371\n",
      "Converged at iteration 1: center shift 0.3733041442718031 within tolerance 1.2601745588292477.\n",
      "Initialization complete\n",
      "Iteration 0, inertia 4099.124792213852\n",
      "Iteration 1, inertia 2751.951543847274\n",
      "Converged at iteration 1: center shift 0.46537613464474054 within tolerance 1.2601745588292477.\n",
      "Initialization complete\n",
      "Iteration 0, inertia 4116.752512198885\n",
      "Iteration 1, inertia 2772.774198509146\n",
      "Converged at iteration 1: center shift 0.8744705125712643 within tolerance 1.2601745588292477.\n",
      "Initialization complete\n",
      "Iteration 0, inertia 3761.3633972807693\n",
      "Iteration 1, inertia 2982.8733239779285\n",
      "Converged at iteration 1: center shift 1.0418481863887477 within tolerance 1.2601745588292477.\n",
      "Initialization complete\n",
      "Iteration 0, inertia 4038.116043328229\n",
      "Iteration 1, inertia 2776.224296209485\n",
      "Converged at iteration 1: center shift 1.1916370877518965 within tolerance 1.2601745588292477.\n",
      "Initialization complete\n",
      "Iteration 0, inertia 4166.887973145443\n",
      "Iteration 1, inertia 2767.594163198199\n",
      "Converged at iteration 1: center shift 0.542732265785015 within tolerance 1.2601745588292477.\n",
      "Initialization complete\n",
      "Iteration 0, inertia 4368.480265429233\n",
      "Iteration 1, inertia 2751.920584581623\n",
      "Converged at iteration 1: center shift 0.6105638023594543 within tolerance 1.2601745588292477.\n",
      "Initialization complete\n",
      "Iteration 0, inertia 4179.9806069676615\n",
      "Iteration 1, inertia 2764.615694483124\n",
      "Converged at iteration 1: center shift 0.5570326045882572 within tolerance 1.2601745588292477.\n",
      "Initialization complete\n",
      "Iteration 0, inertia 4064.6401676371224\n",
      "Iteration 1, inertia 2722.647193979258\n",
      "Converged at iteration 1: center shift 0.5079318400547271 within tolerance 1.2601745588292477.\n",
      "Initialization complete\n",
      "Iteration 0, inertia 4230.067760203889\n",
      "Iteration 1, inertia 2768.382343765694\n",
      "Converged at iteration 1: center shift 0.5662755636687946 within tolerance 1.2601745588292477.\n",
      "Initialization complete\n",
      "Iteration 0, inertia 4075.6777854369857\n",
      "Iteration 1, inertia 2816.344442053139\n",
      "Converged at iteration 1: center shift 0.7096881659984184 within tolerance 1.2601745588292477.\n",
      "Initialization complete\n",
      "Iteration 0, inertia 3690.01254511854\n",
      "Iteration 1, inertia 2868.238657862999\n",
      "Iteration 2, inertia 2694.2630444536057\n",
      "Converged at iteration 2: center shift 0.2531059873931071 within tolerance 1.2601745588292477.\n",
      "Initialization complete\n",
      "Iteration 0, inertia 4088.8460906524806\n",
      "Iteration 1, inertia 2718.889481220459\n",
      "Converged at iteration 1: center shift 0.8147767312798093 within tolerance 1.2601745588292477.\n",
      "Initialization complete\n",
      "Iteration 0, inertia 4022.833772863655\n",
      "Iteration 1, inertia 2751.694182443871\n",
      "Converged at iteration 1: center shift 0.7596071609209787 within tolerance 1.2601745588292477.\n",
      "Initialization complete\n",
      "Iteration 0, inertia 3764.1855014011767\n",
      "Iteration 1, inertia 2935.0049659159567\n",
      "Iteration 2, inertia 2719.2189732058914\n",
      "Converged at iteration 2: center shift 0.22740139535785733 within tolerance 1.2601745588292477.\n",
      "Initialization complete\n",
      "Iteration 0, inertia 3950.2956457971713\n",
      "Iteration 1, inertia 2715.5393621810485\n",
      "Converged at iteration 1: center shift 0.552944239358926 within tolerance 1.2601745588292477.\n",
      "Initialization complete\n",
      "Iteration 0, inertia 4036.203018862246\n",
      "Iteration 1, inertia 2748.005116531507\n",
      "Converged at iteration 1: center shift 0.851470899372569 within tolerance 1.2601745588292477.\n",
      "Initialization complete\n",
      "Iteration 0, inertia 4029.692129006605\n",
      "Iteration 1, inertia 2762.8727552019604\n",
      "Converged at iteration 1: center shift 0.5389659515058136 within tolerance 1.2601745588292477.\n",
      "Initialization complete\n",
      "Iteration 0, inertia 4115.58756134947\n",
      "Iteration 1, inertia 2734.4636083644564\n",
      "Converged at iteration 1: center shift 0.8654921172260034 within tolerance 1.2601745588292477.\n",
      "Initialization complete\n",
      "Iteration 0, inertia 4107.857882124071\n",
      "Iteration 1, inertia 2699.459112372618\n",
      "Converged at iteration 1: center shift 0.7440967647382799 within tolerance 1.2601745588292477.\n",
      "Initialization complete\n",
      "Iteration 0, inertia 4236.048021536497\n",
      "Iteration 1, inertia 2717.0428383009585\n",
      "Converged at iteration 1: center shift 0.5501699325352459 within tolerance 1.2601745588292477.\n",
      "Initialization complete\n",
      "Iteration 0, inertia 4058.671149297835\n",
      "Iteration 1, inertia 2793.5187060996764\n",
      "Converged at iteration 1: center shift 0.5208829586279511 within tolerance 1.2601745588292477.\n",
      "Initialization complete\n",
      "Iteration 0, inertia 4109.595983329631\n",
      "Iteration 1, inertia 2701.3384152935528\n",
      "Converged at iteration 1: center shift 0.6861453306032734 within tolerance 1.2601745588292477.\n",
      "Initialization complete\n",
      "Iteration 0, inertia 4211.404476491055\n",
      "Iteration 1, inertia 2733.666381763412\n",
      "Converged at iteration 1: center shift 0.8896377786048375 within tolerance 1.2601745588292477.\n",
      "Initialization complete\n",
      "Iteration 0, inertia 3979.2727550919467\n",
      "Iteration 1, inertia 2695.3266238901965\n",
      "Converged at iteration 1: center shift 0.509611116249018 within tolerance 1.2601745588292477.\n",
      "Initialization complete\n",
      "Iteration 0, inertia 4048.71518544607\n",
      "Iteration 1, inertia 2672.9661157681867\n",
      "Converged at iteration 1: center shift 0.39063907188506064 within tolerance 1.2601745588292477.\n",
      "Initialization complete\n",
      "Iteration 0, inertia 4062.480931970553\n",
      "Iteration 1, inertia 2757.9706313845604\n",
      "Converged at iteration 1: center shift 0.7385714586334899 within tolerance 1.2601745588292477.\n",
      "Initialization complete\n",
      "Iteration 0, inertia 4337.920205045104\n",
      "Iteration 1, inertia 2721.120743429962\n",
      "Converged at iteration 1: center shift 0.8458522814342577 within tolerance 1.2601745588292477.\n",
      "Initialization complete\n",
      "Iteration 0, inertia 4089.492253649271\n",
      "Iteration 1, inertia 2679.8039340904434\n",
      "Converged at iteration 1: center shift 0.6122430357996014 within tolerance 1.2601745588292477.\n",
      "Initialization complete\n",
      "Iteration 0, inertia 3999.6650386597594\n",
      "Iteration 1, inertia 2673.629770160282\n",
      "Converged at iteration 1: center shift 0.5915841063044751 within tolerance 1.2601745588292477.\n",
      "Initialization complete\n",
      "Iteration 0, inertia 4053.2664814220607\n",
      "Iteration 1, inertia 2710.2509585846537\n",
      "Converged at iteration 1: center shift 0.7091245294969075 within tolerance 1.2601745588292477.\n",
      "Initialization complete\n",
      "Iteration 0, inertia 4268.332787873169\n",
      "Iteration 1, inertia 2709.327151004534\n",
      "Converged at iteration 1: center shift 0.5409414969885343 within tolerance 1.2601745588292477.\n",
      "Initialization complete\n",
      "Iteration 0, inertia 4062.022460476276\n",
      "Iteration 1, inertia 2680.1442717195036\n",
      "Converged at iteration 1: center shift 1.090850380233531 within tolerance 1.2601745588292477.\n",
      "Initialization complete\n",
      "Iteration 0, inertia 4018.0027150735755\n",
      "Iteration 1, inertia 2718.1940344846194\n",
      "Converged at iteration 1: center shift 0.5467378298144552 within tolerance 1.2601745588292477.\n",
      "Initialization complete\n",
      "Iteration 0, inertia 4206.854442689057\n",
      "Iteration 1, inertia 2726.7908112183795\n",
      "Converged at iteration 1: center shift 0.6765053650053736 within tolerance 1.2601745588292477.\n",
      "Initialization complete\n",
      "Iteration 0, inertia 4030.7989345872084\n",
      "Iteration 1, inertia 2697.574713928114\n",
      "Converged at iteration 1: center shift 0.6924062663067637 within tolerance 1.2601745588292477.\n",
      "Initialization complete\n",
      "Iteration 0, inertia 4140.450192923895\n",
      "Iteration 1, inertia 2731.905545460211\n",
      "Converged at iteration 1: center shift 0.8387296987296773 within tolerance 1.2601745588292477.\n",
      "Initialization complete\n",
      "Iteration 0, inertia 4090.638879271312\n",
      "Iteration 1, inertia 2718.310951702938\n",
      "Converged at iteration 1: center shift 0.6414797505736136 within tolerance 1.2601745588292477.\n",
      "Initialization complete\n",
      "Iteration 0, inertia 4016.6941742674912\n",
      "Iteration 1, inertia 2676.0543476083467\n",
      "Converged at iteration 1: center shift 0.6000397426354975 within tolerance 1.2601745588292477.\n",
      "Initialization complete\n",
      "Iteration 0, inertia 4084.745871987828\n",
      "Iteration 1, inertia 2697.3330521973157\n",
      "Converged at iteration 1: center shift 0.6397935461531983 within tolerance 1.2601745588292477.\n",
      "Initialization complete\n",
      "Iteration 0, inertia 4036.846676912909\n",
      "Iteration 1, inertia 2653.080332567292\n",
      "Converged at iteration 1: center shift 0.5946718175552944 within tolerance 1.2601745588292477.\n",
      "Initialization complete\n",
      "Iteration 0, inertia 4170.700491984071\n",
      "Iteration 1, inertia 2702.8733159820463\n",
      "Converged at iteration 1: center shift 0.6124989580883838 within tolerance 1.2601745588292477.\n",
      "Initialization complete\n",
      "Iteration 0, inertia 4225.096195744194\n",
      "Iteration 1, inertia 2736.4854995357837\n",
      "Converged at iteration 1: center shift 1.0720909411755506 within tolerance 1.2601745588292477.\n",
      "Initialization complete\n",
      "Iteration 0, inertia 4107.598895949406\n",
      "Iteration 1, inertia 2658.7999607222814\n",
      "Converged at iteration 1: center shift 0.9573361519187701 within tolerance 1.2601745588292477.\n",
      "Initialization complete\n",
      "Iteration 0, inertia 3977.371571513764\n",
      "Iteration 1, inertia 2703.344552773634\n",
      "Converged at iteration 1: center shift 0.9679768633476025 within tolerance 1.2601745588292477.\n",
      "Initialization complete\n",
      "Iteration 0, inertia 4110.6549957675525\n",
      "Iteration 1, inertia 2680.8107667738977\n",
      "Iteration 2, inertia 2602.920608131655\n",
      "Converged at iteration 2: center shift 0.19099609324732134 within tolerance 1.2601745588292477.\n",
      "Initialization complete\n",
      "Iteration 0, inertia 4071.080343287303\n",
      "Iteration 1, inertia 2724.8513353063076\n",
      "Converged at iteration 1: center shift 0.8392984830520552 within tolerance 1.2601745588292477.\n",
      "Initialization complete\n",
      "Iteration 0, inertia 3987.700187952395\n",
      "Iteration 1, inertia 2749.5063689365147\n",
      "Converged at iteration 1: center shift 0.7073440303290925 within tolerance 1.2601745588292477.\n",
      "Initialization complete\n",
      "Iteration 0, inertia 4149.766911547497\n",
      "Iteration 1, inertia 2671.6896600764826\n",
      "Converged at iteration 1: center shift 0.5705648827218804 within tolerance 1.2601745588292477.\n",
      "Initialization complete\n",
      "Iteration 0, inertia 4145.945226001204\n",
      "Iteration 1, inertia 2723.188108948275\n",
      "Converged at iteration 1: center shift 0.6376566511452056 within tolerance 1.2601745588292477.\n",
      "Initialization complete\n",
      "Iteration 0, inertia 4170.497729991522\n",
      "Iteration 1, inertia 2655.8312244040417\n",
      "Converged at iteration 1: center shift 0.5447523142412032 within tolerance 1.2601745588292477.\n",
      "Initialization complete\n",
      "Iteration 0, inertia 4211.558152727135\n",
      "Iteration 1, inertia 2651.4508819998514\n",
      "Converged at iteration 1: center shift 0.4648314140473497 within tolerance 1.2601745588292477.\n",
      "Initialization complete\n",
      "Iteration 0, inertia 4106.107939667871\n",
      "Iteration 1, inertia 2679.5438252093445\n",
      "Converged at iteration 1: center shift 0.8991856772434231 within tolerance 1.2601745588292477.\n",
      "Initialization complete\n",
      "Iteration 0, inertia 3938.549687291107\n",
      "Iteration 1, inertia 2678.522954154773\n",
      "Converged at iteration 1: center shift 0.5730140684347721 within tolerance 1.2601745588292477.\n",
      "Initialization complete\n",
      "Iteration 0, inertia 3985.358069699446\n",
      "Iteration 1, inertia 2701.3649045560996\n",
      "Converged at iteration 1: center shift 1.0571676037172635 within tolerance 1.2601745588292477.\n",
      "Initialization complete\n",
      "Iteration 0, inertia 4026.4484578849174\n",
      "Iteration 1, inertia 2657.3418628999043\n",
      "Converged at iteration 1: center shift 0.68811806176145 within tolerance 1.2601745588292477.\n",
      "Initialization complete\n",
      "Iteration 0, inertia 3938.618910259187\n",
      "Iteration 1, inertia 2681.0678836050533\n",
      "Converged at iteration 1: center shift 0.9262504052641006 within tolerance 1.2601745588292477.\n",
      "Initialization complete\n",
      "Iteration 0, inertia 4185.84862916658\n",
      "Iteration 1, inertia 2667.0510532254984\n",
      "Converged at iteration 1: center shift 0.8577297099485084 within tolerance 1.2601745588292477.\n",
      "Initialization complete\n",
      "Iteration 0, inertia 4158.910599186482\n",
      "Iteration 1, inertia 2655.6723302850028\n",
      "Converged at iteration 1: center shift 1.1975435380837287 within tolerance 1.2601745588292477.\n",
      "Initialization complete\n",
      "Iteration 0, inertia 4039.3995986166856\n",
      "Iteration 1, inertia 2657.9495028965207\n",
      "Converged at iteration 1: center shift 0.5936432544518994 within tolerance 1.2601745588292477.\n",
      "Initialization complete\n",
      "Iteration 0, inertia 3624.550095840942\n",
      "Iteration 1, inertia 2751.5387948857156\n",
      "Iteration 2, inertia 2668.3397967829997\n",
      "Converged at iteration 2: center shift 0.38289637816478245 within tolerance 1.2601745588292477.\n",
      "Initialization complete\n",
      "Iteration 0, inertia 3931.5636708583593\n",
      "Iteration 1, inertia 2677.4173645346737\n",
      "Converged at iteration 1: center shift 1.0452907952993848 within tolerance 1.2601745588292477.\n",
      "Initialization complete\n",
      "Iteration 0, inertia 4052.97990599785\n",
      "Iteration 1, inertia 2649.443235676184\n",
      "Converged at iteration 1: center shift 0.6318496730864019 within tolerance 1.2601745588292477.\n",
      "Initialization complete\n",
      "Iteration 0, inertia 4075.7652475585974\n",
      "Iteration 1, inertia 2653.038683384048\n",
      "Converged at iteration 1: center shift 0.8664749255646368 within tolerance 1.2601745588292477.\n",
      "Initialization complete\n",
      "Iteration 0, inertia 3978.4832468807476\n",
      "Iteration 1, inertia 2646.9267267298706\n",
      "Converged at iteration 1: center shift 0.8252487350199231 within tolerance 1.2601745588292477.\n",
      "Initialization complete\n",
      "Iteration 0, inertia 4057.111040037892\n",
      "Iteration 1, inertia 2672.8965633145954\n",
      "Converged at iteration 1: center shift 0.5702371653068072 within tolerance 1.2601745588292477.\n",
      "Initialization complete\n",
      "Iteration 0, inertia 4113.21333670222\n",
      "Iteration 1, inertia 2688.552796767967\n",
      "Converged at iteration 1: center shift 0.9951127100177382 within tolerance 1.2601745588292477.\n",
      "Initialization complete\n",
      "Iteration 0, inertia 3899.8535385381215\n",
      "Iteration 1, inertia 2736.8105906652945\n",
      "Converged at iteration 1: center shift 1.11697947927169 within tolerance 1.2601745588292477.\n",
      "Initialization complete\n",
      "Iteration 0, inertia 4171.080732637953\n",
      "Iteration 1, inertia 2657.576668329085\n",
      "Converged at iteration 1: center shift 0.8078148736415548 within tolerance 1.2601745588292477.\n",
      "Initialization complete\n",
      "Iteration 0, inertia 3648.744060995086\n",
      "Iteration 1, inertia 2843.639827689822\n",
      "Iteration 2, inertia 2681.148095105863\n",
      "Converged at iteration 2: center shift 0.531231645377686 within tolerance 1.2601745588292477.\n",
      "Initialization complete\n",
      "Iteration 0, inertia 4076.8472905190342\n",
      "Iteration 1, inertia 2622.5497829663227\n",
      "Converged at iteration 1: center shift 0.9557704861482047 within tolerance 1.2601745588292477.\n",
      "Initialization complete\n",
      "Iteration 0, inertia 3955.405292820524\n",
      "Iteration 1, inertia 2653.9941073445616\n",
      "Converged at iteration 1: center shift 0.8508427588034065 within tolerance 1.2601745588292477.\n",
      "Initialization complete\n",
      "Iteration 0, inertia 4071.638374670504\n",
      "Iteration 1, inertia 2648.8894188209347\n",
      "Converged at iteration 1: center shift 0.9943193254798106 within tolerance 1.2601745588292477.\n",
      "Initialization complete\n",
      "Iteration 0, inertia 4050.352234467647\n",
      "Iteration 1, inertia 2641.810014428112\n",
      "Converged at iteration 1: center shift 0.9177582952066935 within tolerance 1.2601745588292477.\n",
      "Initialization complete\n",
      "Iteration 0, inertia 3933.478480720497\n",
      "Iteration 1, inertia 2643.3461316815788\n",
      "Converged at iteration 1: center shift 1.0467684541545306 within tolerance 1.2601745588292477.\n",
      "Initialization complete\n",
      "Iteration 0, inertia 4080.2951353990593\n",
      "Iteration 1, inertia 2599.749089285782\n",
      "Converged at iteration 1: center shift 0.46770878250286585 within tolerance 1.2601745588292477.\n",
      "Initialization complete\n",
      "Iteration 0, inertia 3978.9955110350943\n",
      "Iteration 1, inertia 2617.4438456757043\n",
      "Converged at iteration 1: center shift 0.7834453621383702 within tolerance 1.2601745588292477.\n",
      "Initialization complete\n",
      "Iteration 0, inertia 3958.6638983150206\n",
      "Iteration 1, inertia 2650.9891311396023\n",
      "Converged at iteration 1: center shift 0.6502644308896843 within tolerance 1.2601745588292477.\n",
      "Initialization complete\n",
      "Iteration 0, inertia 3941.1193521955443\n",
      "Iteration 1, inertia 2712.4734673452194\n",
      "Converged at iteration 1: center shift 0.9789958265725482 within tolerance 1.2601745588292477.\n",
      "Initialization complete\n",
      "Iteration 0, inertia 4079.088065692626\n",
      "Iteration 1, inertia 2651.951357819868\n",
      "Converged at iteration 1: center shift 0.9489152415660053 within tolerance 1.2601745588292477.\n",
      "Initialization complete\n",
      "Iteration 0, inertia 3605.334184712912\n",
      "Iteration 1, inertia 2753.697671916579\n",
      "Iteration 2, inertia 2661.8370109002267\n",
      "Converged at iteration 2: center shift 0.501231301196804 within tolerance 1.2601745588292477.\n",
      "Initialization complete\n",
      "Iteration 0, inertia 3982.26580272468\n",
      "Iteration 1, inertia 2658.927850114038\n",
      "Converged at iteration 1: center shift 0.9486912443460492 within tolerance 1.2601745588292477.\n",
      "Initialization complete\n",
      "Iteration 0, inertia 3908.6537954209143\n",
      "Iteration 1, inertia 2609.5772500840685\n",
      "Converged at iteration 1: center shift 0.5518713061544956 within tolerance 1.2601745588292477.\n",
      "Initialization complete\n",
      "Iteration 0, inertia 3922.777702681803\n",
      "Iteration 1, inertia 2659.811784133284\n",
      "Converged at iteration 1: center shift 0.8791936179044402 within tolerance 1.2601745588292477.\n",
      "Initialization complete\n",
      "Iteration 0, inertia 3636.9273746071076\n",
      "Iteration 1, inertia 2750.996115562582\n",
      "Iteration 2, inertia 2616.14609283678\n",
      "Converged at iteration 2: center shift 0.30120272059316955 within tolerance 1.2601745588292477.\n",
      "Initialization complete\n",
      "Iteration 0, inertia 3944.9834815551117\n",
      "Iteration 1, inertia 2668.3030505010556\n",
      "Converged at iteration 1: center shift 1.1171136020341024 within tolerance 1.2601745588292477.\n",
      "Initialization complete\n",
      "Iteration 0, inertia 3867.7232068171247\n",
      "Iteration 1, inertia 2687.4739207298817\n",
      "Converged at iteration 1: center shift 1.1380112895072778 within tolerance 1.2601745588292477.\n",
      "Initialization complete\n",
      "Iteration 0, inertia 4072.6738895909793\n",
      "Iteration 1, inertia 2647.140246374271\n",
      "Converged at iteration 1: center shift 0.607123428010953 within tolerance 1.2601745588292477.\n",
      "Initialization complete\n",
      "Iteration 0, inertia 4009.5221655771065\n",
      "Iteration 1, inertia 2613.346437680032\n",
      "Converged at iteration 1: center shift 0.8468114982655438 within tolerance 1.2601745588292477.\n",
      "Initialization complete\n",
      "Iteration 0, inertia 3852.040659692543\n",
      "Iteration 1, inertia 2635.93400266743\n",
      "Converged at iteration 1: center shift 0.6540011553293598 within tolerance 1.2601745588292477.\n",
      "Initialization complete\n",
      "Iteration 0, inertia 3967.0260432257037\n",
      "Iteration 1, inertia 2627.629462256488\n",
      "Converged at iteration 1: center shift 0.6582762648479927 within tolerance 1.2601745588292477.\n",
      "Initialization complete\n",
      "Iteration 0, inertia 3982.017259424752\n",
      "Iteration 1, inertia 2643.083153570356\n",
      "Converged at iteration 1: center shift 0.4498911291674045 within tolerance 1.2601745588292477.\n",
      "Initialization complete\n",
      "Iteration 0, inertia 3900.361271343405\n",
      "Iteration 1, inertia 2603.836324110834\n",
      "Converged at iteration 1: center shift 0.9209780287800057 within tolerance 1.2601745588292477.\n",
      "Initialization complete\n",
      "Iteration 0, inertia 4037.148274318835\n",
      "Iteration 1, inertia 2627.992536368474\n",
      "Converged at iteration 1: center shift 1.058443012637795 within tolerance 1.2601745588292477.\n",
      "Initialization complete\n",
      "Iteration 0, inertia 3865.6732372407496\n",
      "Iteration 1, inertia 2611.7991359258162\n",
      "Converged at iteration 1: center shift 0.702208769885117 within tolerance 1.2601745588292477.\n",
      "Initialization complete\n",
      "Iteration 0, inertia 3910.280272310668\n",
      "Iteration 1, inertia 2616.1315858075754\n",
      "Converged at iteration 1: center shift 0.7507015238816978 within tolerance 1.2601745588292477.\n",
      "Initialization complete\n",
      "Iteration 0, inertia 3982.418907464634\n",
      "Iteration 1, inertia 2653.1761507293813\n",
      "Converged at iteration 1: center shift 0.8607547948459874 within tolerance 1.2601745588292477.\n",
      "Initialization complete\n",
      "Iteration 0, inertia 4048.961108596814\n",
      "Iteration 1, inertia 2626.922426411152\n",
      "Converged at iteration 1: center shift 0.8624348069101966 within tolerance 1.2601745588292477.\n",
      "Initialization complete\n",
      "Iteration 0, inertia 3598.407166665147\n",
      "Iteration 1, inertia 2657.454134558157\n",
      "Iteration 2, inertia 2589.622817797925\n",
      "Converged at iteration 2: center shift 0.18826665655051486 within tolerance 1.2601745588292477.\n",
      "Initialization complete\n",
      "Iteration 0, inertia 3899.613792468836\n",
      "Iteration 1, inertia 2660.619904658877\n",
      "Converged at iteration 1: center shift 1.0127792599027372 within tolerance 1.2601745588292477.\n",
      "Initialization complete\n",
      "Iteration 0, inertia 3942.8601385273687\n",
      "Iteration 1, inertia 2614.2708676671173\n",
      "Converged at iteration 1: center shift 0.6702946808529722 within tolerance 1.2601745588292477.\n",
      "Initialization complete\n",
      "Iteration 0, inertia 3534.6101902647624\n",
      "Iteration 1, inertia 2698.580674415117\n",
      "Converged at iteration 1: center shift 1.0616999420204845 within tolerance 1.2601745588292477.\n"
     ]
    }
   ],
   "source": [
    "k_values = range(8,32)\n",
    "inertia_scores = []\n",
    "\n",
    "for k in k_values:\n",
    "    #instantiate\n",
    "    kmeans_model = KMeans(n_clusters=k, verbose=1)\n",
    "    #fitting on first 350 PCs\n",
    "    kmeans_model.fit(PCA_components.iloc[:,0:350])\n",
    "    #get scores and append them\n",
    "    inertia = kmeans_model.inertia_\n",
    "    #append score\n",
    "    inertia_scores.append(inertia)"
   ]
  },
  {
   "cell_type": "code",
   "execution_count": 83,
   "metadata": {
    "colab": {
     "base_uri": "https://localhost:8080/",
     "height": 295
    },
    "id": "PT5Z9xMkx0WP",
    "outputId": "52b612fc-3855-41ff-ef87-9ed3707ca14f"
   },
   "outputs": [
    {
     "data": {
      "image/png": "[encoded data removed]",
      "text/plain": [
       "<Figure size 432x288 with 1 Axes>"
      ]
     },
     "metadata": {
      "needs_background": "light"
     },
     "output_type": "display_data"
    }
   ],
   "source": [
    "plt.figure()\n",
    "plt.plot(k_values, inertia_scores)\n",
    "plt.xlabel('num of clusters')\n",
    "plt.ylabel('score')\n",
    "plt.title('inertia')\n",
    "plt.xticks(k_values)\n",
    "plt.grid()\n",
    "#plt.ylim(0,580000)\n",
    "plt.show()"
   ]
  },
  {
   "cell_type": "code",
   "execution_count": null,
   "metadata": {
    "id": "EXUg1WkwyCGa"
   },
   "outputs": [],
   "source": []
  },
  {
   "cell_type": "markdown",
   "metadata": {
    "id": "CeCIgIsAyCsp"
   },
   "source": [
    "K-Means Cluster\n"
   ]
  },
  {
   "cell_type": "code",
   "execution_count": 84,
   "metadata": {
    "colab": {
     "base_uri": "https://localhost:8080/"
    },
    "id": "L9k6gHvQyGEM",
    "outputId": "94a3dbc2-568e-43a5-f1d2-6424af40a636"
   },
   "outputs": [
    {
     "name": "stdout",
     "output_type": "stream",
     "text": [
      "Initialization complete\n",
      "Iteration 0, inertia 3571.011569142295\n",
      "Iteration 1, inertia 2753.9219771130042\n",
      "Converged at iteration 1: center shift 0.7686357844552967 within tolerance 1.2601745588292477.\n",
      "Initialization complete\n",
      "Iteration 0, inertia 4084.099796928226\n",
      "Iteration 1, inertia 2680.6573771416433\n",
      "Converged at iteration 1: center shift 0.4885276903788901 within tolerance 1.2601745588292477.\n",
      "Initialization complete\n",
      "Iteration 0, inertia 3948.9132928606473\n",
      "Iteration 1, inertia 2658.779466641256\n",
      "Converged at iteration 1: center shift 0.6246805127673402 within tolerance 1.2601745588292477.\n",
      "Initialization complete\n",
      "Iteration 0, inertia 3608.7471033275633\n",
      "Iteration 1, inertia 2759.2011973340673\n",
      "Iteration 2, inertia 2669.9142751701106\n",
      "Converged at iteration 2: center shift 0.20893707124824498 within tolerance 1.2601745588292477.\n",
      "Initialization complete\n",
      "Iteration 0, inertia 4013.225916576386\n",
      "Iteration 1, inertia 2686.632638532911\n",
      "Converged at iteration 1: center shift 0.7891354768882446 within tolerance 1.2601745588292477.\n",
      "Initialization complete\n",
      "Iteration 0, inertia 4104.802444735938\n",
      "Iteration 1, inertia 2708.1510091759333\n",
      "Converged at iteration 1: center shift 0.713902938812192 within tolerance 1.2601745588292477.\n",
      "Initialization complete\n",
      "Iteration 0, inertia 4060.8082264364116\n",
      "Iteration 1, inertia 2688.9557725918044\n",
      "Converged at iteration 1: center shift 0.44362788406759324 within tolerance 1.2601745588292477.\n",
      "Initialization complete\n",
      "Iteration 0, inertia 4111.4309496728865\n",
      "Iteration 1, inertia 2695.416608308567\n",
      "Converged at iteration 1: center shift 0.35017665989945984 within tolerance 1.2601745588292477.\n",
      "Initialization complete\n",
      "Iteration 0, inertia 4128.626147067906\n",
      "Iteration 1, inertia 2681.3581623625064\n",
      "Converged at iteration 1: center shift 0.6163423293246278 within tolerance 1.2601745588292477.\n",
      "Initialization complete\n",
      "Iteration 0, inertia 4269.777548211168\n",
      "Iteration 1, inertia 2757.870568363676\n",
      "Converged at iteration 1: center shift 1.1130606821578084 within tolerance 1.2601745588292477.\n"
     ]
    },
    {
     "data": {
      "text/plain": [
       "KMeans(n_clusters=25, verbose=1)"
      ]
     },
     "execution_count": 84,
     "metadata": {},
     "output_type": "execute_result"
    }
   ],
   "source": [
    "kmeans_model25 = KMeans(n_clusters=25, verbose=1)\n",
    "#fitting KMeans on first 350 PCs\n",
    "kmeans_model25.fit(PCA_components.iloc[:,0:350])"
   ]
  },
  {
   "cell_type": "code",
   "execution_count": 85,
   "metadata": {
    "colab": {
     "base_uri": "https://localhost:8080/"
    },
    "id": "qnhRIEYIyQXF",
    "outputId": "a4efd538-ac6a-4dae-bbcd-84c3c2f07a03"
   },
   "outputs": [
    {
     "data": {
      "text/plain": [
       "KMeans(n_clusters=25, verbose=1)"
      ]
     },
     "execution_count": 85,
     "metadata": {},
     "output_type": "execute_result"
    }
   ],
   "source": [
    "KMeans(algorithm='auto', copy_x=True, init='k-means++', max_iter=300,\n",
    "       n_clusters=25, n_init=10,\n",
    "       random_state=None, tol=0.0001, verbose=1)"
   ]
  },
  {
   "cell_type": "code",
   "execution_count": 86,
   "metadata": {
    "colab": {
     "base_uri": "https://localhost:8080/",
     "height": 266
    },
    "id": "Kc17vcu2yZsJ",
    "outputId": "87e861d8-540d-4d9c-bdcb-e3ea7f272d6a"
   },
   "outputs": [
    {
     "data": {
      "image/png": "[encoded data removed]",
      "text/plain": [
       "<Figure size 432x288 with 1 Axes>"
      ]
     },
     "metadata": {
      "needs_background": "light"
     },
     "output_type": "display_data"
    }
   ],
   "source": [
    "plt.figure()\n",
    "plt.scatter(PCA_components[0],PCA_components[1], c=kmeans_model25.labels_)\n",
    "plt.show()"
   ]
  },
  {
   "cell_type": "code",
   "execution_count": 87,
   "metadata": {
    "colab": {
     "base_uri": "https://localhost:8080/",
     "height": 273
    },
    "id": "5QgMUsciyrUf",
    "outputId": "cdfd6e99-ba96-401f-c8dd-eb2427c41db6"
   },
   "outputs": [
    {
     "data": {
      "text/html": [
       "<div>\n",
       "<style scoped>\n",
       "    .dataframe tbody tr th:only-of-type {\n",
       "        vertical-align: middle;\n",
       "    }\n",
       "\n",
       "    .dataframe tbody tr th {\n",
       "        vertical-align: top;\n",
       "    }\n",
       "\n",
       "    .dataframe thead th {\n",
       "        text-align: right;\n",
       "    }\n",
       "</style>\n",
       "<table border=\"1\" class=\"dataframe\">\n",
       "  <thead>\n",
       "    <tr style=\"text-align: right;\">\n",
       "      <th></th>\n",
       "      <th>ProductID</th>\n",
       "      <th>vote</th>\n",
       "      <th>multipleReviews_reviewer</th>\n",
       "      <th>numReviews_product</th>\n",
       "      <th>nameProvided</th>\n",
       "      <th>r_1</th>\n",
       "      <th>r_10</th>\n",
       "      <th>r_100</th>\n",
       "      <th>r_1st</th>\n",
       "      <th>r_2</th>\n",
       "      <th>...</th>\n",
       "      <th>s_work</th>\n",
       "      <th>s_work s_great</th>\n",
       "      <th>s_work s_well</th>\n",
       "      <th>s_worked</th>\n",
       "      <th>s_working</th>\n",
       "      <th>s_worth</th>\n",
       "      <th>s_worth s_money</th>\n",
       "      <th>s_would</th>\n",
       "      <th>s_wow</th>\n",
       "      <th>s_yet</th>\n",
       "    </tr>\n",
       "  </thead>\n",
       "  <tbody>\n",
       "    <tr>\n",
       "      <th>0</th>\n",
       "      <td>0.208900</td>\n",
       "      <td>0.000000</td>\n",
       "      <td>0.0</td>\n",
       "      <td>0.000000</td>\n",
       "      <td>0.0</td>\n",
       "      <td>0.0</td>\n",
       "      <td>0.0</td>\n",
       "      <td>0.0</td>\n",
       "      <td>0.0</td>\n",
       "      <td>0.0</td>\n",
       "      <td>...</td>\n",
       "      <td>0.0</td>\n",
       "      <td>0.0</td>\n",
       "      <td>0.0</td>\n",
       "      <td>0.0</td>\n",
       "      <td>0.0</td>\n",
       "      <td>0.000000</td>\n",
       "      <td>0.0</td>\n",
       "      <td>0.0</td>\n",
       "      <td>0.0</td>\n",
       "      <td>0.0</td>\n",
       "    </tr>\n",
       "    <tr>\n",
       "      <th>1</th>\n",
       "      <td>0.208900</td>\n",
       "      <td>0.000000</td>\n",
       "      <td>0.0</td>\n",
       "      <td>0.000000</td>\n",
       "      <td>0.0</td>\n",
       "      <td>0.0</td>\n",
       "      <td>0.0</td>\n",
       "      <td>0.0</td>\n",
       "      <td>0.0</td>\n",
       "      <td>0.0</td>\n",
       "      <td>...</td>\n",
       "      <td>0.0</td>\n",
       "      <td>0.0</td>\n",
       "      <td>0.0</td>\n",
       "      <td>0.0</td>\n",
       "      <td>0.0</td>\n",
       "      <td>0.000000</td>\n",
       "      <td>0.0</td>\n",
       "      <td>0.0</td>\n",
       "      <td>0.0</td>\n",
       "      <td>0.0</td>\n",
       "    </tr>\n",
       "    <tr>\n",
       "      <th>2</th>\n",
       "      <td>0.208900</td>\n",
       "      <td>0.000000</td>\n",
       "      <td>0.0</td>\n",
       "      <td>0.000000</td>\n",
       "      <td>0.0</td>\n",
       "      <td>0.0</td>\n",
       "      <td>0.0</td>\n",
       "      <td>0.0</td>\n",
       "      <td>0.0</td>\n",
       "      <td>0.0</td>\n",
       "      <td>...</td>\n",
       "      <td>0.0</td>\n",
       "      <td>0.0</td>\n",
       "      <td>0.0</td>\n",
       "      <td>0.0</td>\n",
       "      <td>0.0</td>\n",
       "      <td>0.000000</td>\n",
       "      <td>0.0</td>\n",
       "      <td>0.0</td>\n",
       "      <td>0.0</td>\n",
       "      <td>0.0</td>\n",
       "    </tr>\n",
       "    <tr>\n",
       "      <th>3</th>\n",
       "      <td>0.120467</td>\n",
       "      <td>0.328947</td>\n",
       "      <td>0.0</td>\n",
       "      <td>0.083333</td>\n",
       "      <td>0.0</td>\n",
       "      <td>0.0</td>\n",
       "      <td>0.0</td>\n",
       "      <td>0.0</td>\n",
       "      <td>0.0</td>\n",
       "      <td>0.0</td>\n",
       "      <td>...</td>\n",
       "      <td>0.0</td>\n",
       "      <td>0.0</td>\n",
       "      <td>0.0</td>\n",
       "      <td>0.0</td>\n",
       "      <td>0.0</td>\n",
       "      <td>0.000000</td>\n",
       "      <td>0.0</td>\n",
       "      <td>0.0</td>\n",
       "      <td>0.0</td>\n",
       "      <td>0.0</td>\n",
       "    </tr>\n",
       "    <tr>\n",
       "      <th>4</th>\n",
       "      <td>0.120467</td>\n",
       "      <td>0.552632</td>\n",
       "      <td>0.0</td>\n",
       "      <td>0.083333</td>\n",
       "      <td>0.0</td>\n",
       "      <td>0.0</td>\n",
       "      <td>0.0</td>\n",
       "      <td>0.0</td>\n",
       "      <td>0.0</td>\n",
       "      <td>0.0</td>\n",
       "      <td>...</td>\n",
       "      <td>0.0</td>\n",
       "      <td>0.0</td>\n",
       "      <td>0.0</td>\n",
       "      <td>0.0</td>\n",
       "      <td>0.0</td>\n",
       "      <td>0.341895</td>\n",
       "      <td>0.0</td>\n",
       "      <td>0.0</td>\n",
       "      <td>0.0</td>\n",
       "      <td>0.0</td>\n",
       "    </tr>\n",
       "  </tbody>\n",
       "</table>\n",
       "<p>5 rows × 679 columns</p>\n",
       "</div>"
      ],
      "text/plain": [
       "   ProductID      vote  multipleReviews_reviewer  numReviews_product  \\\n",
       "0   0.208900  0.000000                       0.0            0.000000   \n",
       "1   0.208900  0.000000                       0.0            0.000000   \n",
       "2   0.208900  0.000000                       0.0            0.000000   \n",
       "3   0.120467  0.328947                       0.0            0.083333   \n",
       "4   0.120467  0.552632                       0.0            0.083333   \n",
       "\n",
       "   nameProvided  r_1  r_10  r_100  r_1st  r_2  ...  s_work  s_work s_great  \\\n",
       "0           0.0  0.0   0.0    0.0    0.0  0.0  ...     0.0             0.0   \n",
       "1           0.0  0.0   0.0    0.0    0.0  0.0  ...     0.0             0.0   \n",
       "2           0.0  0.0   0.0    0.0    0.0  0.0  ...     0.0             0.0   \n",
       "3           0.0  0.0   0.0    0.0    0.0  0.0  ...     0.0             0.0   \n",
       "4           0.0  0.0   0.0    0.0    0.0  0.0  ...     0.0             0.0   \n",
       "\n",
       "   s_work s_well  s_worked  s_working   s_worth  s_worth s_money  s_would  \\\n",
       "0            0.0       0.0        0.0  0.000000              0.0      0.0   \n",
       "1            0.0       0.0        0.0  0.000000              0.0      0.0   \n",
       "2            0.0       0.0        0.0  0.000000              0.0      0.0   \n",
       "3            0.0       0.0        0.0  0.000000              0.0      0.0   \n",
       "4            0.0       0.0        0.0  0.341895              0.0      0.0   \n",
       "\n",
       "   s_wow  s_yet  \n",
       "0    0.0    0.0  \n",
       "1    0.0    0.0  \n",
       "2    0.0    0.0  \n",
       "3    0.0    0.0  \n",
       "4    0.0    0.0  \n",
       "\n",
       "[5 rows x 679 columns]"
      ]
     },
     "execution_count": 87,
     "metadata": {},
     "output_type": "execute_result"
    }
   ],
   "source": [
    "df_final.head()"
   ]
  },
  {
   "cell_type": "code",
   "execution_count": 88,
   "metadata": {
    "id": "MElsa_fhy77H"
   },
   "outputs": [],
   "source": [
    "non_tokens_clust = list(df_final.columns[0:12]) + ['cluster']"
   ]
  },
  {
   "cell_type": "code",
   "execution_count": 104,
   "metadata": {
    "scrolled": true
   },
   "outputs": [
    {
     "data": {
      "text/plain": [
       "['ProductID',\n",
       " 'vote',\n",
       " 'multipleReviews_reviewer',\n",
       " 'numReviews_product',\n",
       " 'nameProvided',\n",
       " 'r_1',\n",
       " 'r_10',\n",
       " 'r_100',\n",
       " 'r_1st',\n",
       " 'r_2',\n",
       " 'r_20',\n",
       " 'r_2nd',\n",
       " 'cluster']"
      ]
     },
     "execution_count": 104,
     "metadata": {},
     "output_type": "execute_result"
    }
   ],
   "source": [
    "non_tokens_clust"
   ]
  },
  {
   "cell_type": "code",
   "execution_count": 95,
   "metadata": {
    "id": "NM8eEGimzGnb"
   },
   "outputs": [],
   "source": [
    "tokens_clust = list(df_final.columns[12:])"
   ]
  },
  {
   "cell_type": "markdown",
   "metadata": {
    "id": "gsnFoqWZIZDB"
   },
   "source": [
    "\n"
   ]
  },
  {
   "cell_type": "code",
   "execution_count": null,
   "metadata": {
    "colab": {
     "base_uri": "https://localhost:8080/",
     "height": 166
    },
    "id": "Nm-WoeJ_zJeA",
    "outputId": "74541b44-070b-442a-8013-f3d567dbde4b"
   },
   "outputs": [],
   "source": []
  },
  {
   "cell_type": "code",
   "execution_count": null,
   "metadata": {
    "colab": {
     "base_uri": "https://localhost:8080/",
     "height": 166
    },
    "id": "LQ_OR5u1zeb3",
    "outputId": "ef2228ea-71bc-429e-a736-a127b0b99f99"
   },
   "outputs": [],
   "source": [
    "\n"
   ]
  },
  {
   "cell_type": "code",
   "execution_count": null,
   "metadata": {},
   "outputs": [],
   "source": []
  }
 ],
 "metadata": {
  "colab": {
   "collapsed_sections": [],
   "name": "Final_Project.ipynb",
   "provenance": []
  },
  "kernelspec": {
   "display_name": "Python 3",
   "language": "python",
   "name": "python3"
  },
  "language_info": {
   "codemirror_mode": {
    "name": "ipython",
    "version": 3
   },
   "file_extension": ".py",
   "mimetype": "text/x-python",
   "name": "python",
   "nbconvert_exporter": "python",
   "pygments_lexer": "ipython3",
   "version": "3.8.8"
  }
 },
 "nbformat": 4,
 "nbformat_minor": 1
}
